{
 "cells": [
  {
   "cell_type": "code",
   "execution_count": 1,
   "id": "dc3921ad",
   "metadata": {},
   "outputs": [
    {
     "name": "stdout",
     "output_type": "stream",
     "text": [
      "<class 'pandas.core.frame.DataFrame'>\n",
      "RangeIndex: 95 entries, 0 to 94\n",
      "Data columns (total 21 columns):\n",
      " #   Column            Non-Null Count  Dtype  \n",
      "---  ------            --------------  -----  \n",
      " 0   USER_ID           95 non-null     int64  \n",
      " 1   TRANSPORT_ID      95 non-null     int64  \n",
      " 2   TRANSPORT_PRICE   95 non-null     float64\n",
      " 3   MODEL_PREDICTION  95 non-null     float64\n",
      " 4   MODEL_RMSE        95 non-null     float64\n",
      " 5   USER_CALCULATION  95 non-null     float64\n",
      " 6   USER_RMSE         95 non-null     float64\n",
      " 7   USER_CATEGORY     95 non-null     object \n",
      " 8   DATA              95 non-null     object \n",
      " 9   COMPANY_SIZE      55 non-null     object \n",
      " 10  COMPANY_TYPE      55 non-null     object \n",
      " 11  FUNCTION          55 non-null     object \n",
      " 12  OLD               95 non-null     float64\n",
      " 13  EXPERIENCE        55 non-null     float64\n",
      " 14  COST_PLN          55 non-null     float64\n",
      " 15  USER_TIME         95 non-null     int64  \n",
      " 16  COST_EURO         40 non-null     float64\n",
      " 17  UNIVERSITY        40 non-null     object \n",
      " 18  FACULTY           40 non-null     object \n",
      " 19  FIELD_OF_STUDY    40 non-null     object \n",
      " 20  EDUCATION         40 non-null     object \n",
      "dtypes: float64(9), int64(3), object(9)\n",
      "memory usage: 15.7+ KB\n"
     ]
    }
   ],
   "source": [
    "import pandas as pd\n",
    "df = pd.read_csv('ML_vs_HUMAN.csv',delimiter=';')\n",
    "df.info()"
   ]
  },
  {
   "cell_type": "code",
   "execution_count": 2,
   "id": "a920cdf4",
   "metadata": {},
   "outputs": [
    {
     "data": {
      "text/plain": [
       "mean      18.696000\n",
       "median    17.920000\n",
       "std        9.463903\n",
       "min        9.690000\n",
       "max       35.520000\n",
       "Name: MODEL_RMSE, dtype: float64"
      ]
     },
     "execution_count": 2,
     "metadata": {},
     "output_type": "execute_result"
    }
   ],
   "source": [
    "df[\"MODEL_RMSE\"].agg([\"mean\", \"median\", \"std\",\"min\",\"max\"])"
   ]
  },
  {
   "cell_type": "code",
   "execution_count": 3,
   "id": "eb31a039",
   "metadata": {},
   "outputs": [
    {
     "data": {
      "text/plain": [
       "mean       233.617368\n",
       "median     194.000000\n",
       "std        185.623303\n",
       "min          0.000000\n",
       "max       1200.000000\n",
       "Name: USER_RMSE, dtype: float64"
      ]
     },
     "execution_count": 3,
     "metadata": {},
     "output_type": "execute_result"
    }
   ],
   "source": [
    "df[\"USER_RMSE\"].agg([\"mean\", \"median\", \"std\",\"min\",\"max\"])"
   ]
  },
  {
   "cell_type": "code",
   "execution_count": 4,
   "id": "a6d77ada",
   "metadata": {},
   "outputs": [
    {
     "data": {
      "text/html": [
       "<div>\n",
       "<style scoped>\n",
       "    .dataframe tbody tr th:only-of-type {\n",
       "        vertical-align: middle;\n",
       "    }\n",
       "\n",
       "    .dataframe tbody tr th {\n",
       "        vertical-align: top;\n",
       "    }\n",
       "\n",
       "    .dataframe thead th {\n",
       "        text-align: right;\n",
       "    }\n",
       "</style>\n",
       "<table border=\"1\" class=\"dataframe\">\n",
       "  <thead>\n",
       "    <tr style=\"text-align: right;\">\n",
       "      <th></th>\n",
       "      <th>USER_CATEGORY</th>\n",
       "      <th>USER_RMSE</th>\n",
       "    </tr>\n",
       "  </thead>\n",
       "  <tbody>\n",
       "    <tr>\n",
       "      <th>0</th>\n",
       "      <td>EXPERT</td>\n",
       "      <td>233.248182</td>\n",
       "    </tr>\n",
       "    <tr>\n",
       "      <th>1</th>\n",
       "      <td>STUDENT</td>\n",
       "      <td>234.125000</td>\n",
       "    </tr>\n",
       "  </tbody>\n",
       "</table>\n",
       "</div>"
      ],
      "text/plain": [
       "  USER_CATEGORY   USER_RMSE\n",
       "0        EXPERT  233.248182\n",
       "1       STUDENT  234.125000"
      ]
     },
     "execution_count": 4,
     "metadata": {},
     "output_type": "execute_result"
    }
   ],
   "source": [
    "df_USER_CATEGORY = df.groupby(['USER_CATEGORY'], as_index=False).USER_RMSE.mean()\n",
    "df_USER_CATEGORY.sort_values('USER_RMSE')"
   ]
  },
  {
   "cell_type": "code",
   "execution_count": 5,
   "id": "317c2c35",
   "metadata": {},
   "outputs": [
    {
     "data": {
      "text/html": [
       "<div>\n",
       "<style scoped>\n",
       "    .dataframe tbody tr th:only-of-type {\n",
       "        vertical-align: middle;\n",
       "    }\n",
       "\n",
       "    .dataframe tbody tr th {\n",
       "        vertical-align: top;\n",
       "    }\n",
       "\n",
       "    .dataframe thead th {\n",
       "        text-align: right;\n",
       "    }\n",
       "</style>\n",
       "<table border=\"1\" class=\"dataframe\">\n",
       "  <thead>\n",
       "    <tr style=\"text-align: right;\">\n",
       "      <th></th>\n",
       "      <th>USER_CATEGORY</th>\n",
       "      <th>TRANSPORT_ID</th>\n",
       "      <th>USER_RMSE</th>\n",
       "    </tr>\n",
       "  </thead>\n",
       "  <tbody>\n",
       "    <tr>\n",
       "      <th>0</th>\n",
       "      <td>EXPERT</td>\n",
       "      <td>1</td>\n",
       "      <td>136.36</td>\n",
       "    </tr>\n",
       "    <tr>\n",
       "      <th>5</th>\n",
       "      <td>STUDENT</td>\n",
       "      <td>1</td>\n",
       "      <td>123.62</td>\n",
       "    </tr>\n",
       "    <tr>\n",
       "      <th>1</th>\n",
       "      <td>EXPERT</td>\n",
       "      <td>2</td>\n",
       "      <td>187.27</td>\n",
       "    </tr>\n",
       "    <tr>\n",
       "      <th>6</th>\n",
       "      <td>STUDENT</td>\n",
       "      <td>2</td>\n",
       "      <td>157.62</td>\n",
       "    </tr>\n",
       "    <tr>\n",
       "      <th>2</th>\n",
       "      <td>EXPERT</td>\n",
       "      <td>3</td>\n",
       "      <td>306.36</td>\n",
       "    </tr>\n",
       "    <tr>\n",
       "      <th>7</th>\n",
       "      <td>STUDENT</td>\n",
       "      <td>3</td>\n",
       "      <td>297.38</td>\n",
       "    </tr>\n",
       "    <tr>\n",
       "      <th>3</th>\n",
       "      <td>EXPERT</td>\n",
       "      <td>4</td>\n",
       "      <td>379.18</td>\n",
       "    </tr>\n",
       "    <tr>\n",
       "      <th>8</th>\n",
       "      <td>STUDENT</td>\n",
       "      <td>4</td>\n",
       "      <td>404.88</td>\n",
       "    </tr>\n",
       "    <tr>\n",
       "      <th>4</th>\n",
       "      <td>EXPERT</td>\n",
       "      <td>5</td>\n",
       "      <td>157.06</td>\n",
       "    </tr>\n",
       "    <tr>\n",
       "      <th>9</th>\n",
       "      <td>STUDENT</td>\n",
       "      <td>5</td>\n",
       "      <td>187.12</td>\n",
       "    </tr>\n",
       "  </tbody>\n",
       "</table>\n",
       "</div>"
      ],
      "text/plain": [
       "  USER_CATEGORY  TRANSPORT_ID  USER_RMSE\n",
       "0        EXPERT             1     136.36\n",
       "5       STUDENT             1     123.62\n",
       "1        EXPERT             2     187.27\n",
       "6       STUDENT             2     157.62\n",
       "2        EXPERT             3     306.36\n",
       "7       STUDENT             3     297.38\n",
       "3        EXPERT             4     379.18\n",
       "8       STUDENT             4     404.88\n",
       "4        EXPERT             5     157.06\n",
       "9       STUDENT             5     187.12"
      ]
     },
     "execution_count": 5,
     "metadata": {},
     "output_type": "execute_result"
    }
   ],
   "source": [
    "df_usercategory_transportid = df.groupby(['USER_CATEGORY', 'TRANSPORT_ID'], as_index=False).USER_RMSE.mean()\n",
    "df_usercategory_transportid.sort_values('TRANSPORT_ID').round(2)"
   ]
  },
  {
   "cell_type": "code",
   "execution_count": 6,
   "id": "99f17f48",
   "metadata": {},
   "outputs": [
    {
     "data": {
      "text/plain": [
       "Text(0, 0.5, 'Mean absolute error [MAE]')"
      ]
     },
     "execution_count": 6,
     "metadata": {},
     "output_type": "execute_result"
    },
    {
     "data": {
      "image/png": "[encoded data removed]",
      "text/plain": [
       "<Figure size 432x288 with 1 Axes>"
      ]
     },
     "metadata": {
      "needs_background": "light"
     },
     "output_type": "display_data"
    }
   ],
   "source": [
    "MODEL_MAE = [9.69, 17.92, 10.00, 35.52, 20.35]\n",
    "EXPERT_MAE = [136.36, 187.27, 306.36, 379.18, 157.06]\n",
    "STUDENT_MAE = [123.62, 157.62, 297.38, 404.88, 187.12]\n",
    "index = ['T1', 'T2', 'T3', 'T4', 'T5']\n",
    "\n",
    "df_bchart = pd.DataFrame({'MODEL_MAE': MODEL_MAE,\n",
    "                   'EXPERT_MAE': EXPERT_MAE,'STUDENT_MAE': STUDENT_MAE}, index=index)\n",
    "\n",
    "ax = df_bchart.plot.bar(rot=0)\n",
    "\n",
    "ax.set_xlabel(\"Transport offer number\")\n",
    "ax.set_ylabel(\"Mean absolute error [MAE]\")"
   ]
  },
  {
   "cell_type": "code",
   "execution_count": null,
   "id": "819781e9",
   "metadata": {},
   "outputs": [],
   "source": []
  }
 ],
 "metadata": {
  "kernelspec": {
   "display_name": "Python 3",
   "language": "python",
   "name": "python3"
  },
  "language_info": {
   "codemirror_mode": {
    "name": "ipython",
    "version": 3
   },
   "file_extension": ".py",
   "mimetype": "text/x-python",
   "name": "python",
   "nbconvert_exporter": "python",
   "pygments_lexer": "ipython3",
   "version": "3.8.8"
  }
 },
 "nbformat": 4,
 "nbformat_minor": 5
}
