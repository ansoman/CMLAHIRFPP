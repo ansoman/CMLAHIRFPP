{
 "cells": [
  {
   "cell_type": "code",
   "execution_count": 1,
   "metadata": {},
   "outputs": [
    {
     "name": "stdout",
     "output_type": "stream",
     "text": [
      "<class 'pandas.core.frame.DataFrame'>\n",
      "RangeIndex: 262 entries, 0 to 261\n",
      "Data columns (total 55 columns):\n",
      " #   Column               Non-Null Count  Dtype  \n",
      "---  ------               --------------  -----  \n",
      " 0   CLIENT_VAT           148 non-null    object \n",
      " 1   TIMO_ID              35 non-null     float64\n",
      " 2   AT_KM                6 non-null      float64\n",
      " 3   CZ_KM                118 non-null    float64\n",
      " 4   DE_KM                55 non-null     float64\n",
      " 5   EE_KM                24 non-null     float64\n",
      " 6   HU_KM                33 non-null     float64\n",
      " 7   LT_KM                86 non-null     float64\n",
      " 8   LV_KM                43 non-null     float64\n",
      " 9   PL_KM                208 non-null    float64\n",
      " 10  SE_KM                32 non-null     float64\n",
      " 11  SK_KM                77 non-null     float64\n",
      " 12  COMPANY_LP           60 non-null     object \n",
      " 13  ADRESS_LP            55 non-null     object \n",
      " 14  COD_LP               262 non-null    object \n",
      " 15  CITY_LP              77 non-null     object \n",
      " 16  LATITUDE_LP          0 non-null      float64\n",
      " 17  LONGTITUDE_LP        0 non-null      float64\n",
      " 18  START_LOAD_DATA      262 non-null    object \n",
      " 19  START_LOAD_TIME      105 non-null    object \n",
      " 20  END_LOAD_DATA        262 non-null    object \n",
      " 21  END_LOAD_TIME        97 non-null     object \n",
      " 22  COMPANY_DP           42 non-null     object \n",
      " 23  ADRESS_DP            42 non-null     object \n",
      " 24  COD_DP               262 non-null    object \n",
      " 25  CITY_DP              70 non-null     object \n",
      " 26  LATITUDE_DP          0 non-null      float64\n",
      " 27  LONGTITUDE_DP        0 non-null      float64\n",
      " 28  START_DELIVERY_DATA  262 non-null    object \n",
      " 29  START_DELIVERY_TIME  80 non-null     object \n",
      " 30  END_DELIVERY_DATA    262 non-null    object \n",
      " 31  END_DELIVERY_TIME    84 non-null     object \n",
      " 32  VEHICLE_TYPE         262 non-null    object \n",
      " 33  BODY_TYPE            258 non-null    object \n",
      " 34  LOAD_UNLOAD_METHOD   261 non-null    object \n",
      " 35  EPALE                82 non-null     float64\n",
      " 36  GOODS_TYPE           123 non-null    object \n",
      " 37  TEMP_MIN             20 non-null     float64\n",
      " 38  TEMP_MAX             20 non-null     float64\n",
      " 39  EURO                 262 non-null    float64\n",
      " 40  LDM                  262 non-null    float64\n",
      " 41  M3                   1 non-null      float64\n",
      " 42  HEIGHT               0 non-null      float64\n",
      " 43  WIDTH                0 non-null      float64\n",
      " 44  TONS                 262 non-null    float64\n",
      " 45  REQUIREMENTS         2 non-null      object \n",
      " 46  OTHER_COSTS          25 non-null     float64\n",
      " 47  QTY_LOADS            262 non-null    int64  \n",
      " 48  QTY_DELIVERIES       262 non-null    int64  \n",
      " 49  SOURCE               170 non-null    object \n",
      " 50  PAYMENT TERM         135 non-null    float64\n",
      " 51  DOCUMENTS_BY         7 non-null      object \n",
      " 52  CARGO_VALUE_EURO     2 non-null      float64\n",
      " 53  CUSTOMS              2 non-null      float64\n",
      " 54  TIME_OF_ENTRY        37 non-null     object \n",
      "dtypes: float64(28), int64(2), object(25)\n",
      "memory usage: 112.7+ KB\n"
     ]
    }
   ],
   "source": [
    "import pandas as pd\n",
    "df = pd.read_csv('DATA.csv',delimiter=';')\n",
    "df.info()"
   ]
  },
  {
   "cell_type": "code",
   "execution_count": 2,
   "metadata": {},
   "outputs": [],
   "source": [
    "# Value Complement\n",
    "df['AT_KM'] = df['AT_KM'].fillna(0)\n",
    "df['CZ_KM'] = df['CZ_KM'].fillna(0)\n",
    "df['DE_KM'] = df['DE_KM'].fillna(0)\n",
    "df['EE_KM'] = df['EE_KM'].fillna(0)\n",
    "df['HU_KM'] = df['HU_KM'].fillna(0)\n",
    "df['LT_KM'] = df['LT_KM'].fillna(0)\n",
    "df['LV_KM'] = df['LV_KM'].fillna(0)\n",
    "df['PL_KM'] = df['PL_KM'].fillna(0)\n",
    "df['SE_KM'] = df['SE_KM'].fillna(0)\n",
    "df['SK_KM'] = df['SK_KM'].fillna(0)\n",
    "df['EPALE'] = df['EPALE'].fillna(0)\n",
    "df['TEMP_MIN'] = df['TEMP_MIN'].fillna(-30)\n",
    "df['TEMP_MAX'] = df['TEMP_MAX'].fillna(30)\n",
    "df['GOODS_TYPE'] = df['GOODS_TYPE'].fillna('Other')\n",
    "df['BODY_TYPE'] = df['BODY_TYPE'].fillna('Other')\n",
    "df['LOAD_UNLOAD_METHOD'] = df['LOAD_UNLOAD_METHOD'].fillna('Other')\n",
    "df['OTHER_COSTS'] = df['OTHER_COSTS'].fillna(0)\n",
    "df['QTY_LOADS'] = df['QTY_LOADS'].fillna(1)\n",
    "df['QTY_DELIVERIES'] = df['QTY_DELIVERIES'].fillna(1)\n",
    "\n",
    "# Feature Engineering\n",
    "df[\"KM\"] = df['AT_KM'] + df['CZ_KM'] + df['DE_KM'] + df['EE_KM'] + df['HU_KM'] + df['LT_KM'] + df['LV_KM'] + df['PL_KM'] + df['SE_KM'] + df['SK_KM']\n",
    "df[\"TEMP_RANGE\"] = df['TEMP_MAX'] - df['TEMP_MIN']\n",
    "df[\"EUROforKM\"] = df['EURO'] / df['KM']\n",
    "df[\"NETTO_EURO\"] = df['EURO'] + df['OTHER_COSTS'] # Other costs for example: ferry, tunnel, bridge.\n",
    "df[\"NETTO_EuroForKM\"] = df['NETTO_EURO'] / df['KM']\n",
    "df[\"EuroForKM\"] = df['EURO'] / df['KM']\n",
    "df[\"ToneKilometer\"] = df['KM'] * df['TONS']\n",
    "df[\"EuroForToneKilometer\"] = df['EURO'] / df[\"ToneKilometer\"]\n",
    "\n",
    "#Date\n",
    "df['START_LOAD_DATA_DAY'] = pd.DatetimeIndex(df['START_LOAD_DATA']).day\n",
    "df['START_LOAD_DATA_WEEKDAY'] = pd.DatetimeIndex(df['START_LOAD_DATA']).weekday\n",
    "df['START_LOAD_DATA_MONTH'] = pd.DatetimeIndex(df['START_LOAD_DATA']).month\n",
    "df['START_LOAD_DATA_YEAR'] = pd.DatetimeIndex(df['START_LOAD_DATA']).year\n",
    "\n",
    "df['END_LOAD_DATA_DAY'] = pd.DatetimeIndex(df['END_LOAD_DATA']).day\n",
    "df['END_LOAD_DATA_WEEKDAY'] = pd.DatetimeIndex(df['END_LOAD_DATA']).weekday\n",
    "df['END_LOAD_DATA_MONTH'] = pd.DatetimeIndex(df['END_LOAD_DATA']).month\n",
    "df['END_LOAD_DATA_YEAR'] = pd.DatetimeIndex(df['START_LOAD_DATA']).year\n",
    "\n",
    "df['START_DELIVERY_DATA_DAY'] = pd.DatetimeIndex(df['START_DELIVERY_DATA']).day\n",
    "df['START_DELIVERY_DATA_WEEKDAY'] = pd.DatetimeIndex(df['START_DELIVERY_DATA']).day\n",
    "df['START_DELIVERY_DATA_MONTH'] = pd.DatetimeIndex(df['START_DELIVERY_DATA']).month\n",
    "df['START_DELIVERY_DATA_YEAR'] = pd.DatetimeIndex(df['START_DELIVERY_DATA']).year\n",
    "\n",
    "df['END_DELIVERY_DATA_DAY'] = pd.DatetimeIndex(df['END_DELIVERY_DATA']).day\n",
    "df['END_DELIVERY_DATA_WEEKDAY'] = pd.DatetimeIndex(df['END_DELIVERY_DATA']).weekday\n",
    "df['END_DELIVERY_DATA_MONTH'] = pd.DatetimeIndex(df['END_DELIVERY_DATA']).month\n",
    "df['END_DELIVERY_DATA_YEAR'] = pd.DatetimeIndex(df['END_DELIVERY_DATA']).year\n",
    "\n",
    "df['START_LOAD_TIME_HOUR'] = pd.DatetimeIndex(df['START_LOAD_TIME']).hour\n",
    "df['START_LOAD_TIME_MINUTE'] = pd.DatetimeIndex(df['START_LOAD_TIME']).minute\n",
    "\n",
    "df['END_LOAD_TIME_HOUR'] = pd.DatetimeIndex(df['END_LOAD_TIME']).hour\n",
    "df['END_LOAD_TIME_MINUTE'] = pd.DatetimeIndex(df['END_LOAD_TIME']).minute\n",
    "\n",
    "df['START_DELIVERY_TIME_HOUR'] = pd.DatetimeIndex(df['START_DELIVERY_TIME']).hour\n",
    "df['START_DELIVERY_TIME_MINUTE'] = pd.DatetimeIndex(df['START_DELIVERY_TIME']).minute\n",
    "\n",
    "df['END_DELIVERY_TIME_HOUR'] = pd.DatetimeIndex(df['END_DELIVERY_TIME']).hour\n",
    "df['END_DELIVERY_TIME_MINUTE'] = pd.DatetimeIndex(df['END_DELIVERY_TIME']).minute\n",
    "\n",
    "# Relation:\n",
    "df[\"COUNTRY_LOAD_PLACE\"] = df[\"COD_LP\"].str[:2]\n",
    "df[\"COUNTRY_DELIVERY_PLACE\"] = df[\"COD_DP\"].str[:2]\n",
    "df[\"Relation\"] = df[\"COD_LP\"].str[:2] + ' to ' + df[\"COD_DP\"].str[:2]\n",
    "\n",
    "\n",
    "df = df[df['KM'] !=0]\n",
    "\n",
    "#Change false into 0 and true into 1\n",
    "df = df*1"
   ]
  },
  {
   "cell_type": "code",
   "execution_count": 3,
   "metadata": {},
   "outputs": [
    {
     "data": {
      "text/plain": [
       "mean       817.655172\n",
       "median     747.000000\n",
       "std        422.758411\n",
       "min         20.700000\n",
       "max       2045.400000\n",
       "Name: KM, dtype: float64"
      ]
     },
     "execution_count": 3,
     "metadata": {},
     "output_type": "execute_result"
    }
   ],
   "source": [
    "df[\"KM\"].agg([\"mean\", \"median\", \"std\",\"min\",\"max\"])"
   ]
  },
  {
   "cell_type": "code",
   "execution_count": 4,
   "metadata": {},
   "outputs": [
    {
     "data": {
      "text/plain": [
       "([<matplotlib.axis.XTick at 0x1f64f8bf280>,\n",
       "  <matplotlib.axis.XTick at 0x1f64f8bf250>,\n",
       "  <matplotlib.axis.XTick at 0x1f64f8a0d60>,\n",
       "  <matplotlib.axis.XTick at 0x1f64ffa55e0>,\n",
       "  <matplotlib.axis.XTick at 0x1f64ffa5af0>,\n",
       "  <matplotlib.axis.XTick at 0x1f64ffb2040>,\n",
       "  <matplotlib.axis.XTick at 0x1f64ffb2550>,\n",
       "  <matplotlib.axis.XTick at 0x1f64ffb2a60>,\n",
       "  <matplotlib.axis.XTick at 0x1f64ffb2f70>,\n",
       "  <matplotlib.axis.XTick at 0x1f64ffba4c0>],\n",
       " [Text(0, 0, ''),\n",
       "  Text(0, 0, ''),\n",
       "  Text(0, 0, ''),\n",
       "  Text(0, 0, ''),\n",
       "  Text(0, 0, ''),\n",
       "  Text(0, 0, ''),\n",
       "  Text(0, 0, ''),\n",
       "  Text(0, 0, ''),\n",
       "  Text(0, 0, ''),\n",
       "  Text(0, 0, '')])"
      ]
     },
     "execution_count": 4,
     "metadata": {},
     "output_type": "execute_result"
    },
    {
     "data": {
      "image/png": "[encoded data removed]",
      "text/plain": [
       "<Figure size 432x288 with 1 Axes>"
      ]
     },
     "metadata": {
      "needs_background": "light"
     },
     "output_type": "display_data"
    }
   ],
   "source": [
    "import pylab as pl\n",
    "import matplotlib.pyplot as plt\n",
    "df['KM'].hist(bins=[0,200,400,600,800,1000,1200,1400,1600,1800,])\n",
    "pl.xlabel(\"Distance in Kilometers\")\n",
    "pl.ylabel(\"Quantity\")\n",
    "plt.xticks([0,200,400,600,800,1000,1200,1400,1600,1800,])"
   ]
  },
  {
   "cell_type": "code",
   "execution_count": 5,
   "metadata": {},
   "outputs": [
    {
     "data": {
      "text/plain": [
       "mean       811.982894\n",
       "median     690.000000\n",
       "std        527.155750\n",
       "min         20.000000\n",
       "max       4300.000000\n",
       "Name: EURO, dtype: float64"
      ]
     },
     "execution_count": 5,
     "metadata": {},
     "output_type": "execute_result"
    }
   ],
   "source": [
    "df[\"EURO\"].agg([\"mean\", \"median\", \"std\",\"min\",\"max\"])"
   ]
  },
  {
   "cell_type": "code",
   "execution_count": 53,
   "metadata": {},
   "outputs": [
    {
     "data": {
      "text/plain": [
       "Text(0, 0.5, 'Quantity')"
      ]
     },
     "execution_count": 53,
     "metadata": {},
     "output_type": "execute_result"
    },
    {
     "data": {
      "image/png": "[encoded data removed]",
      "text/plain": [
       "<Figure size 432x288 with 1 Axes>"
      ]
     },
     "metadata": {
      "needs_background": "light"
     },
     "output_type": "display_data"
    }
   ],
   "source": [
    "import pylab as pl\n",
    "df['EURO'].hist(bins=[200,400,600,800,1000,1200,1400,1600,1800])\n",
    "pl.xlabel(\"Price in €\")\n",
    "pl.ylabel(\"Quantity\")"
   ]
  },
  {
   "cell_type": "code",
   "execution_count": 7,
   "metadata": {},
   "outputs": [
    {
     "data": {
      "text/plain": [
       "mean      21.239274\n",
       "median    24.000000\n",
       "std        5.134799\n",
       "min        1.523000\n",
       "max       25.700000\n",
       "Name: TONS, dtype: float64"
      ]
     },
     "execution_count": 7,
     "metadata": {},
     "output_type": "execute_result"
    }
   ],
   "source": [
    "df[\"TONS\"].agg([\"mean\", \"median\", \"std\",\"min\",\"max\"])"
   ]
  },
  {
   "cell_type": "code",
   "execution_count": 51,
   "metadata": {
    "scrolled": true
   },
   "outputs": [
    {
     "data": {
      "text/plain": [
       "([<matplotlib.axis.XTick at 0x1f6529f6b20>,\n",
       "  <matplotlib.axis.XTick at 0x1f6529f6c10>,\n",
       "  <matplotlib.axis.XTick at 0x1f652984ac0>,\n",
       "  <matplotlib.axis.XTick at 0x1f6528d5b20>,\n",
       "  <matplotlib.axis.XTick at 0x1f6528ef430>,\n",
       "  <matplotlib.axis.XTick at 0x1f6528efb20>,\n",
       "  <matplotlib.axis.XTick at 0x1f6528ef040>,\n",
       "  <matplotlib.axis.XTick at 0x1f652cdcdf0>,\n",
       "  <matplotlib.axis.XTick at 0x1f652cdc730>,\n",
       "  <matplotlib.axis.XTick at 0x1f6528efb80>,\n",
       "  <matplotlib.axis.XTick at 0x1f65296ec10>,\n",
       "  <matplotlib.axis.XTick at 0x1f6529a6070>,\n",
       "  <matplotlib.axis.XTick at 0x1f6529a6580>],\n",
       " [Text(0, 0, ''),\n",
       "  Text(0, 0, ''),\n",
       "  Text(0, 0, ''),\n",
       "  Text(0, 0, ''),\n",
       "  Text(0, 0, ''),\n",
       "  Text(0, 0, ''),\n",
       "  Text(0, 0, ''),\n",
       "  Text(0, 0, ''),\n",
       "  Text(0, 0, ''),\n",
       "  Text(0, 0, ''),\n",
       "  Text(0, 0, ''),\n",
       "  Text(0, 0, ''),\n",
       "  Text(0, 0, '')])"
      ]
     },
     "execution_count": 51,
     "metadata": {},
     "output_type": "execute_result"
    },
    {
     "data": {
      "image/png": "[encoded data removed]",
      "text/plain": [
       "<Figure size 432x288 with 1 Axes>"
      ]
     },
     "metadata": {
      "needs_background": "light"
     },
     "output_type": "display_data"
    }
   ],
   "source": [
    "import pylab as pl\n",
    "df['TONS'].hist(bins=[2,4,6,8,10,12,14,16,18,20,22,24,26])\n",
    "pl.xlabel(\"Weight in Tons\")\n",
    "pl.ylabel(\"Quantity\")\n",
    "plt.xticks([2,4,6,8,10,12,14,16,18,20,22,24,26])"
   ]
  },
  {
   "cell_type": "code",
   "execution_count": 9,
   "metadata": {},
   "outputs": [
    {
     "data": {
      "text/plain": [
       "<AxesSubplot:xlabel='KM', ylabel='EURO'>"
      ]
     },
     "execution_count": 9,
     "metadata": {},
     "output_type": "execute_result"
    },
    {
     "data": {
      "image/png": "[encoded data removed]",
      "text/plain": [
       "<Figure size 432x288 with 1 Axes>"
      ]
     },
     "metadata": {
      "needs_background": "light"
     },
     "output_type": "display_data"
    }
   ],
   "source": [
    "df.plot.scatter(x='KM',y='EURO',)"
   ]
  },
  {
   "cell_type": "code",
   "execution_count": 10,
   "metadata": {},
   "outputs": [
    {
     "data": {
      "text/plain": [
       "0.7663354776641822"
      ]
     },
     "execution_count": 10,
     "metadata": {},
     "output_type": "execute_result"
    }
   ],
   "source": [
    "CorrelationEuroKm = df['EURO'].corr(df['KM'])\n",
    "CorrelationEuroKm"
   ]
  },
  {
   "cell_type": "code",
   "execution_count": 11,
   "metadata": {},
   "outputs": [
    {
     "data": {
      "text/plain": [
       "<AxesSubplot:xlabel='TONS', ylabel='EuroForKM'>"
      ]
     },
     "execution_count": 11,
     "metadata": {},
     "output_type": "execute_result"
    },
    {
     "data": {
      "image/png": "[encoded data removed]",
      "text/plain": [
       "<Figure size 432x288 with 1 Axes>"
      ]
     },
     "metadata": {
      "needs_background": "light"
     },
     "output_type": "display_data"
    }
   ],
   "source": [
    "df.plot.scatter(x='TONS',y='EuroForKM',)"
   ]
  },
  {
   "cell_type": "code",
   "execution_count": 12,
   "metadata": {},
   "outputs": [
    {
     "data": {
      "text/plain": [
       "-0.040348379585739315"
      ]
     },
     "execution_count": 12,
     "metadata": {},
     "output_type": "execute_result"
    }
   ],
   "source": [
    "Correlation_EuroForToneKilometer_EuroForKM = df['EuroForKM'].corr(df['TONS'])\n",
    "Correlation_EuroForToneKilometer_EuroForKM"
   ]
  },
  {
   "cell_type": "code",
   "execution_count": 13,
   "metadata": {},
   "outputs": [
    {
     "data": {
      "text/plain": [
       "mean      1.028719\n",
       "median    0.923233\n",
       "std       0.525208\n",
       "min       0.464253\n",
       "max       6.724684\n",
       "Name: EuroForKM, dtype: float64"
      ]
     },
     "execution_count": 13,
     "metadata": {},
     "output_type": "execute_result"
    }
   ],
   "source": [
    "df[\"EuroForKM\"].agg([\"mean\", \"median\", \"std\",\"min\",\"max\"])"
   ]
  },
  {
   "cell_type": "code",
   "execution_count": 14,
   "metadata": {},
   "outputs": [
    {
     "data": {
      "image/png": "[encoded data removed]",
      "text/plain": [
       "<Figure size 432x288 with 2 Axes>"
      ]
     },
     "metadata": {
      "needs_background": "light"
     },
     "output_type": "display_data"
    }
   ],
   "source": [
    "ax2 = df.plot.scatter(x='KM',\n",
    "                      y='EURO',\n",
    "                      c='TONS',\n",
    "                      colormap='viridis')"
   ]
  },
  {
   "cell_type": "code",
   "execution_count": 15,
   "metadata": {},
   "outputs": [
    {
     "data": {
      "text/plain": [
       "0.6514879147839018"
      ]
     },
     "execution_count": 15,
     "metadata": {},
     "output_type": "execute_result"
    }
   ],
   "source": [
    "CorrelationToneKilometer = df['EURO'].corr(df['ToneKilometer'])\n",
    "CorrelationToneKilometer"
   ]
  },
  {
   "cell_type": "code",
   "execution_count": 16,
   "metadata": {},
   "outputs": [
    {
     "data": {
      "text/plain": [
       "mean      17418.105178\n",
       "median    15895.000000\n",
       "std       10268.910256\n",
       "min         496.800000\n",
       "max       49089.600000\n",
       "Name: ToneKilometer, dtype: float64"
      ]
     },
     "execution_count": 16,
     "metadata": {},
     "output_type": "execute_result"
    }
   ],
   "source": [
    "df[\"ToneKilometer\"].agg([\"mean\", \"median\", \"std\",\"min\",\"max\"])"
   ]
  },
  {
   "cell_type": "code",
   "execution_count": 17,
   "metadata": {},
   "outputs": [
    {
     "data": {
      "text/plain": [
       "Text(0, 0.5, 'Price in € / Kilometer')"
      ]
     },
     "execution_count": 17,
     "metadata": {},
     "output_type": "execute_result"
    },
    {
     "data": {
      "image/png": "[encoded data removed]",
      "text/plain": [
       "<Figure size 432x288 with 1 Axes>"
      ]
     },
     "metadata": {
      "needs_background": "light"
     },
     "output_type": "display_data"
    }
   ],
   "source": [
    "import pylab as pl\n",
    "df.plot.scatter(x='KM',y='EuroForKM',)\n",
    "pl.xlabel(\"Distance in Kilometers\")\n",
    "pl.ylabel(\"Price in € / Kilometer\")"
   ]
  },
  {
   "cell_type": "code",
   "execution_count": 18,
   "metadata": {},
   "outputs": [
    {
     "data": {
      "text/plain": [
       "-0.13181170212524687"
      ]
     },
     "execution_count": 18,
     "metadata": {},
     "output_type": "execute_result"
    }
   ],
   "source": [
    "CorrelationKMtoEuroForKM = df['KM'].corr(df['EuroForKM'])\n",
    "CorrelationKMtoEuroForKM "
   ]
  },
  {
   "cell_type": "code",
   "execution_count": 19,
   "metadata": {},
   "outputs": [
    {
     "data": {
      "text/plain": [
       "<AxesSubplot:xlabel='TONS', ylabel='EuroForKM'>"
      ]
     },
     "execution_count": 19,
     "metadata": {},
     "output_type": "execute_result"
    },
    {
     "data": {
      "image/png": "[encoded data removed]",
      "text/plain": [
       "<Figure size 432x288 with 1 Axes>"
      ]
     },
     "metadata": {
      "needs_background": "light"
     },
     "output_type": "display_data"
    }
   ],
   "source": [
    "df.plot.scatter(x='TONS',y='EuroForKM',)"
   ]
  },
  {
   "cell_type": "code",
   "execution_count": 20,
   "metadata": {},
   "outputs": [
    {
     "data": {
      "text/plain": [
       "-0.040348379585739315"
      ]
     },
     "execution_count": 20,
     "metadata": {},
     "output_type": "execute_result"
    }
   ],
   "source": [
    "CorrelationTONStoEuroForKM = df['TONS'].corr(df['EuroForKM'])\n",
    "CorrelationTONStoEuroForKM"
   ]
  },
  {
   "cell_type": "code",
   "execution_count": 21,
   "metadata": {},
   "outputs": [
    {
     "data": {
      "text/plain": [
       "([<matplotlib.axis.YTick at 0x1f6508176d0>,\n",
       "  <matplotlib.axis.YTick at 0x1f6508172b0>,\n",
       "  <matplotlib.axis.YTick at 0x1f650814160>,\n",
       "  <matplotlib.axis.YTick at 0x1f651829b20>,\n",
       "  <matplotlib.axis.YTick at 0x1f65182f070>],\n",
       " [Text(0, 0, ''),\n",
       "  Text(0, 0, ''),\n",
       "  Text(0, 0, ''),\n",
       "  Text(0, 0, ''),\n",
       "  Text(0, 0, '')])"
      ]
     },
     "execution_count": 21,
     "metadata": {},
     "output_type": "execute_result"
    },
    {
     "data": {
      "image/png": "[encoded data removed]",
      "text/plain": [
       "<Figure size 432x288 with 1 Axes>"
      ]
     },
     "metadata": {
      "needs_background": "light"
     },
     "output_type": "display_data"
    }
   ],
   "source": [
    "import pylab as pl\n",
    "df['PAYMENT TERM'].hist(bins=[0,10,20,30,40,50,60,70])\n",
    "pl.xlabel(\"Payment Term in Days\")\n",
    "pl.ylabel(\"Quantity\")\n",
    "plt.xticks([0,10,20,30,40,50,60,70])\n",
    "plt.yticks([5,10,15,20,25])"
   ]
  },
  {
   "cell_type": "code",
   "execution_count": 54,
   "metadata": {},
   "outputs": [
    {
     "data": {
      "text/plain": [
       "mean      47.253731\n",
       "median    45.000000\n",
       "std       11.704177\n",
       "min        5.000000\n",
       "max       60.000000\n",
       "Name: PAYMENT TERM, dtype: float64"
      ]
     },
     "execution_count": 54,
     "metadata": {},
     "output_type": "execute_result"
    }
   ],
   "source": [
    "df[\"PAYMENT TERM\"].agg([\"mean\", \"median\", \"std\",\"min\",\"max\"])"
   ]
  },
  {
   "cell_type": "code",
   "execution_count": 22,
   "metadata": {},
   "outputs": [
    {
     "data": {
      "text/plain": [
       "Text(0, 0.5, 'Price in € / Kilometer')"
      ]
     },
     "execution_count": 22,
     "metadata": {},
     "output_type": "execute_result"
    },
    {
     "data": {
      "image/png": "[encoded data removed]",
      "text/plain": [
       "<Figure size 432x288 with 1 Axes>"
      ]
     },
     "metadata": {
      "needs_background": "light"
     },
     "output_type": "display_data"
    }
   ],
   "source": [
    "import pylab as pl\n",
    "df.plot.scatter(x='PAYMENT TERM',y='EuroForKM',)\n",
    "pl.xlabel(\"Payment Term in Days\")\n",
    "pl.ylabel(\"Price in € / Kilometer\")"
   ]
  },
  {
   "cell_type": "code",
   "execution_count": 23,
   "metadata": {},
   "outputs": [
    {
     "data": {
      "text/plain": [
       "0.0438988614685164"
      ]
     },
     "execution_count": 23,
     "metadata": {},
     "output_type": "execute_result"
    }
   ],
   "source": [
    "CorrelationPAYMENTTERMtoEuroForKM = df['PAYMENT TERM'].corr(df['EuroForKM'])\n",
    "CorrelationPAYMENTTERMtoEuroForKM"
   ]
  },
  {
   "cell_type": "code",
   "execution_count": 24,
   "metadata": {},
   "outputs": [
    {
     "data": {
      "text/plain": [
       "array([nan, 60., 45., 55., 30., 35., 50., 21., 14., 40.,  5., 49.])"
      ]
     },
     "execution_count": 24,
     "metadata": {},
     "output_type": "execute_result"
    }
   ],
   "source": [
    "df['PAYMENT TERM'].unique()"
   ]
  },
  {
   "cell_type": "code",
   "execution_count": 25,
   "metadata": {},
   "outputs": [
    {
     "data": {
      "text/plain": [
       "45.0    53\n",
       "60.0    41\n",
       "30.0    12\n",
       "55.0    10\n",
       "35.0     8\n",
       "14.0     3\n",
       "40.0     2\n",
       "50.0     2\n",
       "5.0      1\n",
       "21.0     1\n",
       "49.0     1\n",
       "Name: PAYMENT TERM, dtype: int64"
      ]
     },
     "execution_count": 25,
     "metadata": {},
     "output_type": "execute_result"
    }
   ],
   "source": [
    "df['PAYMENT TERM'].value_counts()"
   ]
  },
  {
   "cell_type": "code",
   "execution_count": 26,
   "metadata": {},
   "outputs": [
    {
     "data": {
      "text/html": [
       "<div>\n",
       "<style scoped>\n",
       "    .dataframe tbody tr th:only-of-type {\n",
       "        vertical-align: middle;\n",
       "    }\n",
       "\n",
       "    .dataframe tbody tr th {\n",
       "        vertical-align: top;\n",
       "    }\n",
       "\n",
       "    .dataframe thead th {\n",
       "        text-align: right;\n",
       "    }\n",
       "</style>\n",
       "<table border=\"1\" class=\"dataframe\">\n",
       "  <thead>\n",
       "    <tr style=\"text-align: right;\">\n",
       "      <th></th>\n",
       "      <th>PAYMENT TERM</th>\n",
       "      <th>EuroForKM</th>\n",
       "    </tr>\n",
       "  </thead>\n",
       "  <tbody>\n",
       "    <tr>\n",
       "      <th>0</th>\n",
       "      <td>5.0</td>\n",
       "      <td>1.168224</td>\n",
       "    </tr>\n",
       "    <tr>\n",
       "      <th>1</th>\n",
       "      <td>14.0</td>\n",
       "      <td>0.886333</td>\n",
       "    </tr>\n",
       "    <tr>\n",
       "      <th>2</th>\n",
       "      <td>21.0</td>\n",
       "      <td>1.272984</td>\n",
       "    </tr>\n",
       "    <tr>\n",
       "      <th>3</th>\n",
       "      <td>30.0</td>\n",
       "      <td>0.926142</td>\n",
       "    </tr>\n",
       "    <tr>\n",
       "      <th>4</th>\n",
       "      <td>35.0</td>\n",
       "      <td>0.931679</td>\n",
       "    </tr>\n",
       "    <tr>\n",
       "      <th>5</th>\n",
       "      <td>40.0</td>\n",
       "      <td>0.934679</td>\n",
       "    </tr>\n",
       "    <tr>\n",
       "      <th>6</th>\n",
       "      <td>45.0</td>\n",
       "      <td>0.829870</td>\n",
       "    </tr>\n",
       "    <tr>\n",
       "      <th>7</th>\n",
       "      <td>49.0</td>\n",
       "      <td>0.727990</td>\n",
       "    </tr>\n",
       "    <tr>\n",
       "      <th>8</th>\n",
       "      <td>50.0</td>\n",
       "      <td>0.894431</td>\n",
       "    </tr>\n",
       "    <tr>\n",
       "      <th>9</th>\n",
       "      <td>55.0</td>\n",
       "      <td>1.081139</td>\n",
       "    </tr>\n",
       "    <tr>\n",
       "      <th>10</th>\n",
       "      <td>60.0</td>\n",
       "      <td>0.951110</td>\n",
       "    </tr>\n",
       "  </tbody>\n",
       "</table>\n",
       "</div>"
      ],
      "text/plain": [
       "    PAYMENT TERM  EuroForKM\n",
       "0            5.0   1.168224\n",
       "1           14.0   0.886333\n",
       "2           21.0   1.272984\n",
       "3           30.0   0.926142\n",
       "4           35.0   0.931679\n",
       "5           40.0   0.934679\n",
       "6           45.0   0.829870\n",
       "7           49.0   0.727990\n",
       "8           50.0   0.894431\n",
       "9           55.0   1.081139\n",
       "10          60.0   0.951110"
      ]
     },
     "execution_count": 26,
     "metadata": {},
     "output_type": "execute_result"
    }
   ],
   "source": [
    "dfp = df.groupby(['PAYMENT TERM'], as_index=False).EuroForKM.mean()\n",
    "dfp.sort_values('PAYMENT TERM')"
   ]
  },
  {
   "cell_type": "code",
   "execution_count": 27,
   "metadata": {},
   "outputs": [
    {
     "data": {
      "text/html": [
       "<div>\n",
       "<style scoped>\n",
       "    .dataframe tbody tr th:only-of-type {\n",
       "        vertical-align: middle;\n",
       "    }\n",
       "\n",
       "    .dataframe tbody tr th {\n",
       "        vertical-align: top;\n",
       "    }\n",
       "\n",
       "    .dataframe thead th {\n",
       "        text-align: right;\n",
       "    }\n",
       "</style>\n",
       "<table border=\"1\" class=\"dataframe\">\n",
       "  <thead>\n",
       "    <tr style=\"text-align: right;\">\n",
       "      <th></th>\n",
       "      <th>END_DELIVERY_DATA_MONTH</th>\n",
       "      <th>EuroForKM</th>\n",
       "    </tr>\n",
       "  </thead>\n",
       "  <tbody>\n",
       "    <tr>\n",
       "      <th>0</th>\n",
       "      <td>1</td>\n",
       "      <td>0.952802</td>\n",
       "    </tr>\n",
       "    <tr>\n",
       "      <th>1</th>\n",
       "      <td>2</td>\n",
       "      <td>1.216984</td>\n",
       "    </tr>\n",
       "    <tr>\n",
       "      <th>2</th>\n",
       "      <td>3</td>\n",
       "      <td>1.160887</td>\n",
       "    </tr>\n",
       "    <tr>\n",
       "      <th>3</th>\n",
       "      <td>4</td>\n",
       "      <td>1.071336</td>\n",
       "    </tr>\n",
       "    <tr>\n",
       "      <th>4</th>\n",
       "      <td>5</td>\n",
       "      <td>1.222371</td>\n",
       "    </tr>\n",
       "    <tr>\n",
       "      <th>5</th>\n",
       "      <td>6</td>\n",
       "      <td>0.893375</td>\n",
       "    </tr>\n",
       "    <tr>\n",
       "      <th>6</th>\n",
       "      <td>7</td>\n",
       "      <td>0.929287</td>\n",
       "    </tr>\n",
       "    <tr>\n",
       "      <th>7</th>\n",
       "      <td>8</td>\n",
       "      <td>1.148490</td>\n",
       "    </tr>\n",
       "    <tr>\n",
       "      <th>8</th>\n",
       "      <td>9</td>\n",
       "      <td>0.941008</td>\n",
       "    </tr>\n",
       "    <tr>\n",
       "      <th>9</th>\n",
       "      <td>10</td>\n",
       "      <td>0.925523</td>\n",
       "    </tr>\n",
       "    <tr>\n",
       "      <th>10</th>\n",
       "      <td>11</td>\n",
       "      <td>0.919459</td>\n",
       "    </tr>\n",
       "    <tr>\n",
       "      <th>11</th>\n",
       "      <td>12</td>\n",
       "      <td>1.005629</td>\n",
       "    </tr>\n",
       "  </tbody>\n",
       "</table>\n",
       "</div>"
      ],
      "text/plain": [
       "    END_DELIVERY_DATA_MONTH  EuroForKM\n",
       "0                         1   0.952802\n",
       "1                         2   1.216984\n",
       "2                         3   1.160887\n",
       "3                         4   1.071336\n",
       "4                         5   1.222371\n",
       "5                         6   0.893375\n",
       "6                         7   0.929287\n",
       "7                         8   1.148490\n",
       "8                         9   0.941008\n",
       "9                        10   0.925523\n",
       "10                       11   0.919459\n",
       "11                       12   1.005629"
      ]
     },
     "execution_count": 27,
     "metadata": {},
     "output_type": "execute_result"
    }
   ],
   "source": [
    "df3 = df.groupby(['END_DELIVERY_DATA_MONTH'],as_index=False).EuroForKM.mean()\n",
    "df3"
   ]
  },
  {
   "cell_type": "code",
   "execution_count": 28,
   "metadata": {},
   "outputs": [
    {
     "data": {
      "text/plain": [
       "([<matplotlib.axis.XTick at 0x1f6518ce610>,\n",
       "  <matplotlib.axis.XTick at 0x1f6518ce5e0>,\n",
       "  <matplotlib.axis.XTick at 0x1f6518eab80>,\n",
       "  <matplotlib.axis.XTick at 0x1f6518ffdf0>,\n",
       "  <matplotlib.axis.XTick at 0x1f651909340>,\n",
       "  <matplotlib.axis.XTick at 0x1f651909880>,\n",
       "  <matplotlib.axis.XTick at 0x1f651909d90>,\n",
       "  <matplotlib.axis.XTick at 0x1f651909580>,\n",
       "  <matplotlib.axis.XTick at 0x1f6518cc190>,\n",
       "  <matplotlib.axis.XTick at 0x1f65190e1c0>,\n",
       "  <matplotlib.axis.XTick at 0x1f65190e700>,\n",
       "  <matplotlib.axis.XTick at 0x1f65190ec10>],\n",
       " [Text(0, 0, ''),\n",
       "  Text(0, 0, ''),\n",
       "  Text(0, 0, ''),\n",
       "  Text(0, 0, ''),\n",
       "  Text(0, 0, ''),\n",
       "  Text(0, 0, ''),\n",
       "  Text(0, 0, ''),\n",
       "  Text(0, 0, ''),\n",
       "  Text(0, 0, ''),\n",
       "  Text(0, 0, ''),\n",
       "  Text(0, 0, ''),\n",
       "  Text(0, 0, '')])"
      ]
     },
     "execution_count": 28,
     "metadata": {},
     "output_type": "execute_result"
    },
    {
     "data": {
      "image/png": "[encoded data removed]",
      "text/plain": [
       "<Figure size 432x288 with 1 Axes>"
      ]
     },
     "metadata": {
      "needs_background": "light"
     },
     "output_type": "display_data"
    }
   ],
   "source": [
    "df3.plot.line(x='END_DELIVERY_DATA_MONTH', y='EuroForKM')\n",
    "pl.xlabel(\"Delivery Month\")\n",
    "pl.ylabel(\"Price in € / Kilometer\")\n",
    "plt.xticks([1,2,3,4,5,6,7,8,9,10,11,12])"
   ]
  },
  {
   "cell_type": "code",
   "execution_count": 29,
   "metadata": {},
   "outputs": [
    {
     "data": {
      "text/html": [
       "<div>\n",
       "<style scoped>\n",
       "    .dataframe tbody tr th:only-of-type {\n",
       "        vertical-align: middle;\n",
       "    }\n",
       "\n",
       "    .dataframe tbody tr th {\n",
       "        vertical-align: top;\n",
       "    }\n",
       "\n",
       "    .dataframe thead th {\n",
       "        text-align: right;\n",
       "    }\n",
       "</style>\n",
       "<table border=\"1\" class=\"dataframe\">\n",
       "  <thead>\n",
       "    <tr style=\"text-align: right;\">\n",
       "      <th></th>\n",
       "      <th>END_DELIVERY_DATA_WEEKDAY</th>\n",
       "      <th>EuroForKM</th>\n",
       "    </tr>\n",
       "  </thead>\n",
       "  <tbody>\n",
       "    <tr>\n",
       "      <th>0</th>\n",
       "      <td>0</td>\n",
       "      <td>1.001164</td>\n",
       "    </tr>\n",
       "    <tr>\n",
       "      <th>1</th>\n",
       "      <td>1</td>\n",
       "      <td>0.957694</td>\n",
       "    </tr>\n",
       "    <tr>\n",
       "      <th>2</th>\n",
       "      <td>2</td>\n",
       "      <td>0.970731</td>\n",
       "    </tr>\n",
       "    <tr>\n",
       "      <th>3</th>\n",
       "      <td>3</td>\n",
       "      <td>1.027009</td>\n",
       "    </tr>\n",
       "    <tr>\n",
       "      <th>4</th>\n",
       "      <td>4</td>\n",
       "      <td>1.202353</td>\n",
       "    </tr>\n",
       "    <tr>\n",
       "      <th>5</th>\n",
       "      <td>5</td>\n",
       "      <td>1.103908</td>\n",
       "    </tr>\n",
       "    <tr>\n",
       "      <th>6</th>\n",
       "      <td>6</td>\n",
       "      <td>0.973714</td>\n",
       "    </tr>\n",
       "  </tbody>\n",
       "</table>\n",
       "</div>"
      ],
      "text/plain": [
       "   END_DELIVERY_DATA_WEEKDAY  EuroForKM\n",
       "0                          0   1.001164\n",
       "1                          1   0.957694\n",
       "2                          2   0.970731\n",
       "3                          3   1.027009\n",
       "4                          4   1.202353\n",
       "5                          5   1.103908\n",
       "6                          6   0.973714"
      ]
     },
     "execution_count": 29,
     "metadata": {},
     "output_type": "execute_result"
    }
   ],
   "source": [
    "df3b = df.groupby(['END_DELIVERY_DATA_WEEKDAY'],as_index=False).EuroForKM.mean()\n",
    "df3b"
   ]
  },
  {
   "cell_type": "code",
   "execution_count": 30,
   "metadata": {},
   "outputs": [
    {
     "data": {
      "text/plain": [
       "([<matplotlib.axis.XTick at 0x1f65194cd30>,\n",
       "  <matplotlib.axis.XTick at 0x1f65194cd00>,\n",
       "  <matplotlib.axis.XTick at 0x1f651971fd0>,\n",
       "  <matplotlib.axis.XTick at 0x1f65197b520>,\n",
       "  <matplotlib.axis.XTick at 0x1f65197ba30>,\n",
       "  <matplotlib.axis.XTick at 0x1f65197bf40>,\n",
       "  <matplotlib.axis.XTick at 0x1f651983490>],\n",
       " [Text(0, 0, ''),\n",
       "  Text(0, 0, ''),\n",
       "  Text(0, 0, ''),\n",
       "  Text(0, 0, ''),\n",
       "  Text(0, 0, ''),\n",
       "  Text(0, 0, ''),\n",
       "  Text(0, 0, '')])"
      ]
     },
     "execution_count": 30,
     "metadata": {},
     "output_type": "execute_result"
    },
    {
     "data": {
      "image/png": "[encoded data removed]",
      "text/plain": [
       "<Figure size 432x288 with 1 Axes>"
      ]
     },
     "metadata": {
      "needs_background": "light"
     },
     "output_type": "display_data"
    }
   ],
   "source": [
    "df3b.plot.line(x='END_DELIVERY_DATA_WEEKDAY', y='EuroForKM')\n",
    "pl.xlabel(\"Delivery Weekday\")\n",
    "pl.ylabel(\"Price in € / Kilometer\")\n",
    "plt.xticks([0,1,2,3,4,5,6])"
   ]
  },
  {
   "cell_type": "code",
   "execution_count": 31,
   "metadata": {},
   "outputs": [
    {
     "data": {
      "text/plain": [
       "0.01210804039839004"
      ]
     },
     "execution_count": 31,
     "metadata": {},
     "output_type": "execute_result"
    }
   ],
   "source": [
    "Correlation_QTY_LOADS_to_EuroForKM = df['QTY_LOADS'].corr(df['EuroForKM'])\n",
    "Correlation_QTY_LOADS_to_EuroForKM"
   ]
  },
  {
   "cell_type": "code",
   "execution_count": 32,
   "metadata": {},
   "outputs": [
    {
     "data": {
      "text/html": [
       "<div>\n",
       "<style scoped>\n",
       "    .dataframe tbody tr th:only-of-type {\n",
       "        vertical-align: middle;\n",
       "    }\n",
       "\n",
       "    .dataframe tbody tr th {\n",
       "        vertical-align: top;\n",
       "    }\n",
       "\n",
       "    .dataframe thead th {\n",
       "        text-align: right;\n",
       "    }\n",
       "</style>\n",
       "<table border=\"1\" class=\"dataframe\">\n",
       "  <thead>\n",
       "    <tr style=\"text-align: right;\">\n",
       "      <th></th>\n",
       "      <th>QTY_LOADS</th>\n",
       "      <th>EUROforKM</th>\n",
       "    </tr>\n",
       "  </thead>\n",
       "  <tbody>\n",
       "    <tr>\n",
       "      <th>0</th>\n",
       "      <td>1</td>\n",
       "      <td>1.026810</td>\n",
       "    </tr>\n",
       "    <tr>\n",
       "      <th>1</th>\n",
       "      <td>2</td>\n",
       "      <td>1.113588</td>\n",
       "    </tr>\n",
       "    <tr>\n",
       "      <th>2</th>\n",
       "      <td>3</td>\n",
       "      <td>1.091370</td>\n",
       "    </tr>\n",
       "    <tr>\n",
       "      <th>3</th>\n",
       "      <td>4</td>\n",
       "      <td>0.962032</td>\n",
       "    </tr>\n",
       "  </tbody>\n",
       "</table>\n",
       "</div>"
      ],
      "text/plain": [
       "   QTY_LOADS  EUROforKM\n",
       "0          1   1.026810\n",
       "1          2   1.113588\n",
       "2          3   1.091370\n",
       "3          4   0.962032"
      ]
     },
     "execution_count": 32,
     "metadata": {},
     "output_type": "execute_result"
    }
   ],
   "source": [
    "df4 = df.groupby(['QTY_LOADS'], as_index=False).EUROforKM.mean()\n",
    "df4"
   ]
  },
  {
   "cell_type": "code",
   "execution_count": 33,
   "metadata": {},
   "outputs": [
    {
     "data": {
      "text/plain": [
       "-0.022700343269770225"
      ]
     },
     "execution_count": 33,
     "metadata": {},
     "output_type": "execute_result"
    }
   ],
   "source": [
    "Correlation_QTY_DELIVERIES_to_EuroForKM = df['QTY_DELIVERIES'].corr(df['EuroForKM'])\n",
    "Correlation_QTY_DELIVERIES_to_EuroForKM"
   ]
  },
  {
   "cell_type": "code",
   "execution_count": 34,
   "metadata": {},
   "outputs": [
    {
     "data": {
      "text/html": [
       "<div>\n",
       "<style scoped>\n",
       "    .dataframe tbody tr th:only-of-type {\n",
       "        vertical-align: middle;\n",
       "    }\n",
       "\n",
       "    .dataframe tbody tr th {\n",
       "        vertical-align: top;\n",
       "    }\n",
       "\n",
       "    .dataframe thead th {\n",
       "        text-align: right;\n",
       "    }\n",
       "</style>\n",
       "<table border=\"1\" class=\"dataframe\">\n",
       "  <thead>\n",
       "    <tr style=\"text-align: right;\">\n",
       "      <th></th>\n",
       "      <th>QTY_DELIVERIES</th>\n",
       "      <th>EUROforKM</th>\n",
       "    </tr>\n",
       "  </thead>\n",
       "  <tbody>\n",
       "    <tr>\n",
       "      <th>0</th>\n",
       "      <td>1</td>\n",
       "      <td>1.035340</td>\n",
       "    </tr>\n",
       "    <tr>\n",
       "      <th>1</th>\n",
       "      <td>2</td>\n",
       "      <td>0.914474</td>\n",
       "    </tr>\n",
       "    <tr>\n",
       "      <th>2</th>\n",
       "      <td>3</td>\n",
       "      <td>0.892628</td>\n",
       "    </tr>\n",
       "    <tr>\n",
       "      <th>3</th>\n",
       "      <td>4</td>\n",
       "      <td>0.828918</td>\n",
       "    </tr>\n",
       "    <tr>\n",
       "      <th>4</th>\n",
       "      <td>6</td>\n",
       "      <td>1.357033</td>\n",
       "    </tr>\n",
       "  </tbody>\n",
       "</table>\n",
       "</div>"
      ],
      "text/plain": [
       "   QTY_DELIVERIES  EUROforKM\n",
       "0               1   1.035340\n",
       "1               2   0.914474\n",
       "2               3   0.892628\n",
       "3               4   0.828918\n",
       "4               6   1.357033"
      ]
     },
     "execution_count": 34,
     "metadata": {},
     "output_type": "execute_result"
    }
   ],
   "source": [
    "df5 = df.groupby(['QTY_DELIVERIES'], as_index=False).EUROforKM.mean()\n",
    "df5"
   ]
  },
  {
   "cell_type": "code",
   "execution_count": 35,
   "metadata": {},
   "outputs": [
    {
     "data": {
      "text/html": [
       "<div>\n",
       "<style scoped>\n",
       "    .dataframe tbody tr th:only-of-type {\n",
       "        vertical-align: middle;\n",
       "    }\n",
       "\n",
       "    .dataframe tbody tr th {\n",
       "        vertical-align: top;\n",
       "    }\n",
       "\n",
       "    .dataframe thead th {\n",
       "        text-align: right;\n",
       "    }\n",
       "</style>\n",
       "<table border=\"1\" class=\"dataframe\">\n",
       "  <thead>\n",
       "    <tr style=\"text-align: right;\">\n",
       "      <th></th>\n",
       "      <th>COUNTRY_LOAD_PLACE</th>\n",
       "      <th>EUROforKM</th>\n",
       "    </tr>\n",
       "  </thead>\n",
       "  <tbody>\n",
       "    <tr>\n",
       "      <th>3</th>\n",
       "      <td>HU</td>\n",
       "      <td>0.825605</td>\n",
       "    </tr>\n",
       "    <tr>\n",
       "      <th>4</th>\n",
       "      <td>LT</td>\n",
       "      <td>0.891937</td>\n",
       "    </tr>\n",
       "    <tr>\n",
       "      <th>2</th>\n",
       "      <td>EE</td>\n",
       "      <td>0.914589</td>\n",
       "    </tr>\n",
       "    <tr>\n",
       "      <th>8</th>\n",
       "      <td>SK</td>\n",
       "      <td>0.964332</td>\n",
       "    </tr>\n",
       "    <tr>\n",
       "      <th>1</th>\n",
       "      <td>DE</td>\n",
       "      <td>0.982326</td>\n",
       "    </tr>\n",
       "    <tr>\n",
       "      <th>7</th>\n",
       "      <td>SE</td>\n",
       "      <td>0.984679</td>\n",
       "    </tr>\n",
       "    <tr>\n",
       "      <th>6</th>\n",
       "      <td>PL</td>\n",
       "      <td>1.088258</td>\n",
       "    </tr>\n",
       "    <tr>\n",
       "      <th>0</th>\n",
       "      <td>CZ</td>\n",
       "      <td>1.109413</td>\n",
       "    </tr>\n",
       "    <tr>\n",
       "      <th>5</th>\n",
       "      <td>LV</td>\n",
       "      <td>1.313607</td>\n",
       "    </tr>\n",
       "  </tbody>\n",
       "</table>\n",
       "</div>"
      ],
      "text/plain": [
       "  COUNTRY_LOAD_PLACE  EUROforKM\n",
       "3                 HU   0.825605\n",
       "4                 LT   0.891937\n",
       "2                 EE   0.914589\n",
       "8                 SK   0.964332\n",
       "1                 DE   0.982326\n",
       "7                 SE   0.984679\n",
       "6                 PL   1.088258\n",
       "0                 CZ   1.109413\n",
       "5                 LV   1.313607"
      ]
     },
     "execution_count": 35,
     "metadata": {},
     "output_type": "execute_result"
    }
   ],
   "source": [
    "df6 = df.groupby(['COUNTRY_LOAD_PLACE'], as_index=False).EUROforKM.mean()\n",
    "df6.sort_values('EUROforKM')"
   ]
  },
  {
   "cell_type": "code",
   "execution_count": 36,
   "metadata": {
    "scrolled": true
   },
   "outputs": [
    {
     "data": {
      "text/html": [
       "<div>\n",
       "<style scoped>\n",
       "    .dataframe tbody tr th:only-of-type {\n",
       "        vertical-align: middle;\n",
       "    }\n",
       "\n",
       "    .dataframe tbody tr th {\n",
       "        vertical-align: top;\n",
       "    }\n",
       "\n",
       "    .dataframe thead th {\n",
       "        text-align: right;\n",
       "    }\n",
       "</style>\n",
       "<table border=\"1\" class=\"dataframe\">\n",
       "  <thead>\n",
       "    <tr style=\"text-align: right;\">\n",
       "      <th></th>\n",
       "      <th>COUNTRY_DELIVERY_PLACE</th>\n",
       "      <th>EUROforKM</th>\n",
       "    </tr>\n",
       "  </thead>\n",
       "  <tbody>\n",
       "    <tr>\n",
       "      <th>6</th>\n",
       "      <td>PL</td>\n",
       "      <td>0.757014</td>\n",
       "    </tr>\n",
       "    <tr>\n",
       "      <th>4</th>\n",
       "      <td>LT</td>\n",
       "      <td>0.891655</td>\n",
       "    </tr>\n",
       "    <tr>\n",
       "      <th>5</th>\n",
       "      <td>LV</td>\n",
       "      <td>0.956232</td>\n",
       "    </tr>\n",
       "    <tr>\n",
       "      <th>0</th>\n",
       "      <td>CZ</td>\n",
       "      <td>1.006087</td>\n",
       "    </tr>\n",
       "    <tr>\n",
       "      <th>2</th>\n",
       "      <td>EE</td>\n",
       "      <td>1.035716</td>\n",
       "    </tr>\n",
       "    <tr>\n",
       "      <th>8</th>\n",
       "      <td>SK</td>\n",
       "      <td>1.052735</td>\n",
       "    </tr>\n",
       "    <tr>\n",
       "      <th>3</th>\n",
       "      <td>HU</td>\n",
       "      <td>1.081175</td>\n",
       "    </tr>\n",
       "    <tr>\n",
       "      <th>1</th>\n",
       "      <td>DE</td>\n",
       "      <td>1.137636</td>\n",
       "    </tr>\n",
       "    <tr>\n",
       "      <th>7</th>\n",
       "      <td>SE</td>\n",
       "      <td>2.010653</td>\n",
       "    </tr>\n",
       "  </tbody>\n",
       "</table>\n",
       "</div>"
      ],
      "text/plain": [
       "  COUNTRY_DELIVERY_PLACE  EUROforKM\n",
       "6                     PL   0.757014\n",
       "4                     LT   0.891655\n",
       "5                     LV   0.956232\n",
       "0                     CZ   1.006087\n",
       "2                     EE   1.035716\n",
       "8                     SK   1.052735\n",
       "3                     HU   1.081175\n",
       "1                     DE   1.137636\n",
       "7                     SE   2.010653"
      ]
     },
     "execution_count": 36,
     "metadata": {},
     "output_type": "execute_result"
    }
   ],
   "source": [
    "df7 = df.groupby(['COUNTRY_DELIVERY_PLACE'], as_index=False).EUROforKM.mean()\n",
    "df7.sort_values('EUROforKM')"
   ]
  },
  {
   "cell_type": "code",
   "execution_count": 37,
   "metadata": {},
   "outputs": [
    {
     "data": {
      "text/html": [
       "<div>\n",
       "<style scoped>\n",
       "    .dataframe tbody tr th:only-of-type {\n",
       "        vertical-align: middle;\n",
       "    }\n",
       "\n",
       "    .dataframe tbody tr th {\n",
       "        vertical-align: top;\n",
       "    }\n",
       "\n",
       "    .dataframe thead th {\n",
       "        text-align: right;\n",
       "    }\n",
       "</style>\n",
       "<table border=\"1\" class=\"dataframe\">\n",
       "  <thead>\n",
       "    <tr style=\"text-align: right;\">\n",
       "      <th></th>\n",
       "      <th>Relation</th>\n",
       "      <th>NETTO_EuroForKM</th>\n",
       "      <th>Load Country</th>\n",
       "      <th>Delivery Country</th>\n",
       "    </tr>\n",
       "  </thead>\n",
       "  <tbody>\n",
       "    <tr>\n",
       "      <th>0</th>\n",
       "      <td>CZ to CZ</td>\n",
       "      <td>1.345211</td>\n",
       "      <td>CZ</td>\n",
       "      <td>CZ</td>\n",
       "    </tr>\n",
       "    <tr>\n",
       "      <th>1</th>\n",
       "      <td>CZ to DE</td>\n",
       "      <td>1.419979</td>\n",
       "      <td>CZ</td>\n",
       "      <td>DE</td>\n",
       "    </tr>\n",
       "    <tr>\n",
       "      <th>2</th>\n",
       "      <td>CZ to EE</td>\n",
       "      <td>1.086895</td>\n",
       "      <td>CZ</td>\n",
       "      <td>EE</td>\n",
       "    </tr>\n",
       "    <tr>\n",
       "      <th>3</th>\n",
       "      <td>CZ to HU</td>\n",
       "      <td>1.161710</td>\n",
       "      <td>CZ</td>\n",
       "      <td>HU</td>\n",
       "    </tr>\n",
       "    <tr>\n",
       "      <th>4</th>\n",
       "      <td>CZ to LT</td>\n",
       "      <td>0.819258</td>\n",
       "      <td>CZ</td>\n",
       "      <td>LT</td>\n",
       "    </tr>\n",
       "    <tr>\n",
       "      <th>...</th>\n",
       "      <td>...</td>\n",
       "      <td>...</td>\n",
       "      <td>...</td>\n",
       "      <td>...</td>\n",
       "    </tr>\n",
       "    <tr>\n",
       "      <th>76</th>\n",
       "      <td>SK to LT</td>\n",
       "      <td>0.781342</td>\n",
       "      <td>SK</td>\n",
       "      <td>LT</td>\n",
       "    </tr>\n",
       "    <tr>\n",
       "      <th>77</th>\n",
       "      <td>SK to LV</td>\n",
       "      <td>0.799277</td>\n",
       "      <td>SK</td>\n",
       "      <td>LV</td>\n",
       "    </tr>\n",
       "    <tr>\n",
       "      <th>78</th>\n",
       "      <td>SK to PL</td>\n",
       "      <td>0.775352</td>\n",
       "      <td>SK</td>\n",
       "      <td>PL</td>\n",
       "    </tr>\n",
       "    <tr>\n",
       "      <th>79</th>\n",
       "      <td>SK to SE</td>\n",
       "      <td>2.351526</td>\n",
       "      <td>SK</td>\n",
       "      <td>SE</td>\n",
       "    </tr>\n",
       "    <tr>\n",
       "      <th>80</th>\n",
       "      <td>SK to SK</td>\n",
       "      <td>0.654879</td>\n",
       "      <td>SK</td>\n",
       "      <td>SK</td>\n",
       "    </tr>\n",
       "  </tbody>\n",
       "</table>\n",
       "<p>81 rows × 4 columns</p>\n",
       "</div>"
      ],
      "text/plain": [
       "    Relation  NETTO_EuroForKM Load Country Delivery Country\n",
       "0   CZ to CZ         1.345211           CZ               CZ\n",
       "1   CZ to DE         1.419979           CZ               DE\n",
       "2   CZ to EE         1.086895           CZ               EE\n",
       "3   CZ to HU         1.161710           CZ               HU\n",
       "4   CZ to LT         0.819258           CZ               LT\n",
       "..       ...              ...          ...              ...\n",
       "76  SK to LT         0.781342           SK               LT\n",
       "77  SK to LV         0.799277           SK               LV\n",
       "78  SK to PL         0.775352           SK               PL\n",
       "79  SK to SE         2.351526           SK               SE\n",
       "80  SK to SK         0.654879           SK               SK\n",
       "\n",
       "[81 rows x 4 columns]"
      ]
     },
     "execution_count": 37,
     "metadata": {},
     "output_type": "execute_result"
    }
   ],
   "source": [
    "df8 = df.groupby([\"Relation\"], as_index=False).NETTO_EuroForKM.mean()\n",
    "df8[\"Load Country\"] = df8[\"Relation\"].str[:2]\n",
    "df8[\"Delivery Country\"] = df8[\"Relation\"].str[6:8]\n",
    "df8"
   ]
  },
  {
   "cell_type": "code",
   "execution_count": 38,
   "metadata": {},
   "outputs": [
    {
     "data": {
      "text/html": [
       "<div>\n",
       "<style scoped>\n",
       "    .dataframe tbody tr th:only-of-type {\n",
       "        vertical-align: middle;\n",
       "    }\n",
       "\n",
       "    .dataframe tbody tr th {\n",
       "        vertical-align: top;\n",
       "    }\n",
       "\n",
       "    .dataframe thead th {\n",
       "        text-align: right;\n",
       "    }\n",
       "</style>\n",
       "<table border=\"1\" class=\"dataframe\">\n",
       "  <thead>\n",
       "    <tr style=\"text-align: right;\">\n",
       "      <th></th>\n",
       "      <th>NETTO_EuroForKM</th>\n",
       "      <th>Load Country</th>\n",
       "      <th>Delivery Country</th>\n",
       "    </tr>\n",
       "  </thead>\n",
       "  <tbody>\n",
       "    <tr>\n",
       "      <th>0</th>\n",
       "      <td>1.345211</td>\n",
       "      <td>CZ</td>\n",
       "      <td>CZ</td>\n",
       "    </tr>\n",
       "    <tr>\n",
       "      <th>1</th>\n",
       "      <td>1.419979</td>\n",
       "      <td>CZ</td>\n",
       "      <td>DE</td>\n",
       "    </tr>\n",
       "    <tr>\n",
       "      <th>2</th>\n",
       "      <td>1.086895</td>\n",
       "      <td>CZ</td>\n",
       "      <td>EE</td>\n",
       "    </tr>\n",
       "    <tr>\n",
       "      <th>3</th>\n",
       "      <td>1.161710</td>\n",
       "      <td>CZ</td>\n",
       "      <td>HU</td>\n",
       "    </tr>\n",
       "    <tr>\n",
       "      <th>4</th>\n",
       "      <td>0.819258</td>\n",
       "      <td>CZ</td>\n",
       "      <td>LT</td>\n",
       "    </tr>\n",
       "    <tr>\n",
       "      <th>...</th>\n",
       "      <td>...</td>\n",
       "      <td>...</td>\n",
       "      <td>...</td>\n",
       "    </tr>\n",
       "    <tr>\n",
       "      <th>76</th>\n",
       "      <td>0.781342</td>\n",
       "      <td>SK</td>\n",
       "      <td>LT</td>\n",
       "    </tr>\n",
       "    <tr>\n",
       "      <th>77</th>\n",
       "      <td>0.799277</td>\n",
       "      <td>SK</td>\n",
       "      <td>LV</td>\n",
       "    </tr>\n",
       "    <tr>\n",
       "      <th>78</th>\n",
       "      <td>0.775352</td>\n",
       "      <td>SK</td>\n",
       "      <td>PL</td>\n",
       "    </tr>\n",
       "    <tr>\n",
       "      <th>79</th>\n",
       "      <td>2.351526</td>\n",
       "      <td>SK</td>\n",
       "      <td>SE</td>\n",
       "    </tr>\n",
       "    <tr>\n",
       "      <th>80</th>\n",
       "      <td>0.654879</td>\n",
       "      <td>SK</td>\n",
       "      <td>SK</td>\n",
       "    </tr>\n",
       "  </tbody>\n",
       "</table>\n",
       "<p>81 rows × 3 columns</p>\n",
       "</div>"
      ],
      "text/plain": [
       "    NETTO_EuroForKM Load Country Delivery Country\n",
       "0          1.345211           CZ               CZ\n",
       "1          1.419979           CZ               DE\n",
       "2          1.086895           CZ               EE\n",
       "3          1.161710           CZ               HU\n",
       "4          0.819258           CZ               LT\n",
       "..              ...          ...              ...\n",
       "76         0.781342           SK               LT\n",
       "77         0.799277           SK               LV\n",
       "78         0.775352           SK               PL\n",
       "79         2.351526           SK               SE\n",
       "80         0.654879           SK               SK\n",
       "\n",
       "[81 rows x 3 columns]"
      ]
     },
     "execution_count": 38,
     "metadata": {},
     "output_type": "execute_result"
    }
   ],
   "source": [
    "del df8['Relation']\n",
    "df8"
   ]
  },
  {
   "cell_type": "code",
   "execution_count": 39,
   "metadata": {},
   "outputs": [
    {
     "data": {
      "image/png": "[encoded data removed]",
      "text/plain": [
       "<Figure size 432x288 with 2 Axes>"
      ]
     },
     "metadata": {
      "needs_background": "light"
     },
     "output_type": "display_data"
    }
   ],
   "source": [
    "import seaborn as sns\n",
    "flights = df8\n",
    "flights = flights.pivot(\"Load Country\", \"Delivery Country\", \"NETTO_EuroForKM\")\n",
    "ax = sns.heatmap(flights, cmap=\"YlGnBu\", annot=True)"
   ]
  },
  {
   "cell_type": "code",
   "execution_count": 40,
   "metadata": {},
   "outputs": [
    {
     "data": {
      "text/plain": [
       "array(['Refrigerator',\n",
       "       'Box, Thermo, Tautliner, Mega, Refrigerator, Curtain',\n",
       "       'Tautliner, Mega, Curtain', 'Curtain', 'Refrigerator, Curtain',\n",
       "       'Thermo, Curtain', 'Thermo, Tautliner, Refrigerator, Curtain',\n",
       "       'Thermo, Refrigerator, Curtain',\n",
       "       'Box, Coil trough, Thermo, Tautliner, Mega, Refrigerator, Curtain',\n",
       "       'Flatbed truck', 'Box, Coil trough, Tautliner, Mega, Curtain',\n",
       "       'Coil trough', 'Coil trough, Tautliner, Mega, Curtain', 'Other',\n",
       "       'Tautliner', 'Tautliner, Refrigerator, Curtain',\n",
       "       'Thermo, Refrigerator', 'Tautliner, Box, Frigo',\n",
       "       'Tautliner, Refrigerator', 'Refrigerator, Tautliner',\n",
       "       'Box, Refrigerator', 'RIGID TRUCK, ARTICULATED TRUCK',\n",
       "       'CURTAIN, TAUTLINER', 'CURTAIN',\n",
       "       'izotherm, standard, curtain, refrigerator', 'TAUTLINER',\n",
       "       'Curtain ', 'tautliner, curtain, isotherm, refrigerator',\n",
       "       'Curtain, Tautliner', 'Box, Jumbo, Refrigerator, Curtain ',\n",
       "       'TIPPER', 'Tautliner, Curtain',\n",
       "       'Jumbo, Mega, Refrigerator, Curtain',\n",
       "       'Tautliner, Refrigerator, Curtain ', 'Tautliner, Curtain ',\n",
       "       'Jumbo, Curtain'], dtype=object)"
      ]
     },
     "execution_count": 40,
     "metadata": {},
     "output_type": "execute_result"
    }
   ],
   "source": [
    "df['BODY_TYPE'].unique()"
   ]
  },
  {
   "cell_type": "code",
   "execution_count": 41,
   "metadata": {},
   "outputs": [],
   "source": [
    "df8b = df['BODY_TYPE'].value_counts()"
   ]
  },
  {
   "cell_type": "code",
   "execution_count": 42,
   "metadata": {},
   "outputs": [
    {
     "data": {
      "text/plain": [
       "Text(0, 0.5, 'Quantity')"
      ]
     },
     "execution_count": 42,
     "metadata": {},
     "output_type": "execute_result"
    },
    {
     "data": {
      "image/png": "[encoded data removed]",
      "text/plain": [
       "<Figure size 432x288 with 1 Axes>"
      ]
     },
     "metadata": {
      "needs_background": "light"
     },
     "output_type": "display_data"
    }
   ],
   "source": [
    "ax = df8b.plot.bar(x='BODY_TYPE', y='val', rot=90)\n",
    "pl.xlabel(\"Body type\")\n",
    "pl.ylabel(\"Quantity\")"
   ]
  },
  {
   "cell_type": "code",
   "execution_count": 43,
   "metadata": {},
   "outputs": [
    {
     "data": {
      "text/html": [
       "<div>\n",
       "<style scoped>\n",
       "    .dataframe tbody tr th:only-of-type {\n",
       "        vertical-align: middle;\n",
       "    }\n",
       "\n",
       "    .dataframe tbody tr th {\n",
       "        vertical-align: top;\n",
       "    }\n",
       "\n",
       "    .dataframe thead th {\n",
       "        text-align: right;\n",
       "    }\n",
       "</style>\n",
       "<table border=\"1\" class=\"dataframe\">\n",
       "  <thead>\n",
       "    <tr style=\"text-align: right;\">\n",
       "      <th></th>\n",
       "      <th>BODY_TYPE</th>\n",
       "      <th>EuroForKM</th>\n",
       "    </tr>\n",
       "  </thead>\n",
       "  <tbody>\n",
       "    <tr>\n",
       "      <th>35</th>\n",
       "      <td>tautliner, curtain, isotherm, refrigerator</td>\n",
       "      <td>0.464253</td>\n",
       "    </tr>\n",
       "    <tr>\n",
       "      <th>19</th>\n",
       "      <td>Refrigerator, Tautliner</td>\n",
       "      <td>0.641989</td>\n",
       "    </tr>\n",
       "    <tr>\n",
       "      <th>32</th>\n",
       "      <td>Thermo, Refrigerator, Curtain</td>\n",
       "      <td>0.756348</td>\n",
       "    </tr>\n",
       "    <tr>\n",
       "      <th>14</th>\n",
       "      <td>Jumbo, Mega, Refrigerator, Curtain</td>\n",
       "      <td>0.766787</td>\n",
       "    </tr>\n",
       "    <tr>\n",
       "      <th>0</th>\n",
       "      <td>Box, Coil trough, Tautliner, Mega, Curtain</td>\n",
       "      <td>0.776186</td>\n",
       "    </tr>\n",
       "    <tr>\n",
       "      <th>34</th>\n",
       "      <td>izotherm, standard, curtain, refrigerator</td>\n",
       "      <td>0.808052</td>\n",
       "    </tr>\n",
       "    <tr>\n",
       "      <th>11</th>\n",
       "      <td>Curtain, Tautliner</td>\n",
       "      <td>0.816815</td>\n",
       "    </tr>\n",
       "    <tr>\n",
       "      <th>16</th>\n",
       "      <td>RIGID TRUCK, ARTICULATED TRUCK</td>\n",
       "      <td>0.855934</td>\n",
       "    </tr>\n",
       "    <tr>\n",
       "      <th>15</th>\n",
       "      <td>Other</td>\n",
       "      <td>0.858837</td>\n",
       "    </tr>\n",
       "    <tr>\n",
       "      <th>8</th>\n",
       "      <td>Coil trough, Tautliner, Mega, Curtain</td>\n",
       "      <td>0.881969</td>\n",
       "    </tr>\n",
       "    <tr>\n",
       "      <th>6</th>\n",
       "      <td>CURTAIN, TAUTLINER</td>\n",
       "      <td>0.882934</td>\n",
       "    </tr>\n",
       "    <tr>\n",
       "      <th>22</th>\n",
       "      <td>Tautliner</td>\n",
       "      <td>0.913223</td>\n",
       "    </tr>\n",
       "    <tr>\n",
       "      <th>7</th>\n",
       "      <td>Coil trough</td>\n",
       "      <td>0.934612</td>\n",
       "    </tr>\n",
       "    <tr>\n",
       "      <th>20</th>\n",
       "      <td>TAUTLINER</td>\n",
       "      <td>0.945914</td>\n",
       "    </tr>\n",
       "    <tr>\n",
       "      <th>29</th>\n",
       "      <td>Tautliner, Refrigerator, Curtain</td>\n",
       "      <td>0.966184</td>\n",
       "    </tr>\n",
       "    <tr>\n",
       "      <th>13</th>\n",
       "      <td>Jumbo, Curtain</td>\n",
       "      <td>0.969490</td>\n",
       "    </tr>\n",
       "    <tr>\n",
       "      <th>21</th>\n",
       "      <td>TIPPER</td>\n",
       "      <td>0.991899</td>\n",
       "    </tr>\n",
       "    <tr>\n",
       "      <th>4</th>\n",
       "      <td>Box, Thermo, Tautliner, Mega, Refrigerator, Cu...</td>\n",
       "      <td>0.994563</td>\n",
       "    </tr>\n",
       "    <tr>\n",
       "      <th>5</th>\n",
       "      <td>CURTAIN</td>\n",
       "      <td>1.011721</td>\n",
       "    </tr>\n",
       "    <tr>\n",
       "      <th>10</th>\n",
       "      <td>Curtain</td>\n",
       "      <td>1.021257</td>\n",
       "    </tr>\n",
       "    <tr>\n",
       "      <th>26</th>\n",
       "      <td>Tautliner, Mega, Curtain</td>\n",
       "      <td>1.041427</td>\n",
       "    </tr>\n",
       "    <tr>\n",
       "      <th>1</th>\n",
       "      <td>Box, Coil trough, Thermo, Tautliner, Mega, Ref...</td>\n",
       "      <td>1.041731</td>\n",
       "    </tr>\n",
       "    <tr>\n",
       "      <th>24</th>\n",
       "      <td>Tautliner, Curtain</td>\n",
       "      <td>1.043271</td>\n",
       "    </tr>\n",
       "    <tr>\n",
       "      <th>33</th>\n",
       "      <td>Thermo, Tautliner, Refrigerator, Curtain</td>\n",
       "      <td>1.078559</td>\n",
       "    </tr>\n",
       "    <tr>\n",
       "      <th>28</th>\n",
       "      <td>Tautliner, Refrigerator, Curtain</td>\n",
       "      <td>1.088750</td>\n",
       "    </tr>\n",
       "    <tr>\n",
       "      <th>30</th>\n",
       "      <td>Thermo, Curtain</td>\n",
       "      <td>1.095723</td>\n",
       "    </tr>\n",
       "    <tr>\n",
       "      <th>23</th>\n",
       "      <td>Tautliner, Box, Frigo</td>\n",
       "      <td>1.151908</td>\n",
       "    </tr>\n",
       "    <tr>\n",
       "      <th>2</th>\n",
       "      <td>Box, Jumbo, Refrigerator, Curtain</td>\n",
       "      <td>1.243875</td>\n",
       "    </tr>\n",
       "    <tr>\n",
       "      <th>17</th>\n",
       "      <td>Refrigerator</td>\n",
       "      <td>1.299209</td>\n",
       "    </tr>\n",
       "    <tr>\n",
       "      <th>25</th>\n",
       "      <td>Tautliner, Curtain</td>\n",
       "      <td>1.301871</td>\n",
       "    </tr>\n",
       "    <tr>\n",
       "      <th>18</th>\n",
       "      <td>Refrigerator, Curtain</td>\n",
       "      <td>1.323895</td>\n",
       "    </tr>\n",
       "    <tr>\n",
       "      <th>9</th>\n",
       "      <td>Curtain</td>\n",
       "      <td>1.344438</td>\n",
       "    </tr>\n",
       "    <tr>\n",
       "      <th>31</th>\n",
       "      <td>Thermo, Refrigerator</td>\n",
       "      <td>1.501351</td>\n",
       "    </tr>\n",
       "    <tr>\n",
       "      <th>12</th>\n",
       "      <td>Flatbed truck</td>\n",
       "      <td>2.002670</td>\n",
       "    </tr>\n",
       "    <tr>\n",
       "      <th>27</th>\n",
       "      <td>Tautliner, Refrigerator</td>\n",
       "      <td>2.078005</td>\n",
       "    </tr>\n",
       "    <tr>\n",
       "      <th>3</th>\n",
       "      <td>Box, Refrigerator</td>\n",
       "      <td>2.389486</td>\n",
       "    </tr>\n",
       "  </tbody>\n",
       "</table>\n",
       "</div>"
      ],
      "text/plain": [
       "                                            BODY_TYPE  EuroForKM\n",
       "35         tautliner, curtain, isotherm, refrigerator   0.464253\n",
       "19                            Refrigerator, Tautliner   0.641989\n",
       "32                      Thermo, Refrigerator, Curtain   0.756348\n",
       "14                 Jumbo, Mega, Refrigerator, Curtain   0.766787\n",
       "0          Box, Coil trough, Tautliner, Mega, Curtain   0.776186\n",
       "34          izotherm, standard, curtain, refrigerator   0.808052\n",
       "11                                 Curtain, Tautliner   0.816815\n",
       "16                     RIGID TRUCK, ARTICULATED TRUCK   0.855934\n",
       "15                                              Other   0.858837\n",
       "8               Coil trough, Tautliner, Mega, Curtain   0.881969\n",
       "6                                  CURTAIN, TAUTLINER   0.882934\n",
       "22                                          Tautliner   0.913223\n",
       "7                                         Coil trough   0.934612\n",
       "20                                          TAUTLINER   0.945914\n",
       "29                  Tautliner, Refrigerator, Curtain    0.966184\n",
       "13                                     Jumbo, Curtain   0.969490\n",
       "21                                             TIPPER   0.991899\n",
       "4   Box, Thermo, Tautliner, Mega, Refrigerator, Cu...   0.994563\n",
       "5                                             CURTAIN   1.011721\n",
       "10                                           Curtain    1.021257\n",
       "26                           Tautliner, Mega, Curtain   1.041427\n",
       "1   Box, Coil trough, Thermo, Tautliner, Mega, Ref...   1.041731\n",
       "24                                 Tautliner, Curtain   1.043271\n",
       "33           Thermo, Tautliner, Refrigerator, Curtain   1.078559\n",
       "28                   Tautliner, Refrigerator, Curtain   1.088750\n",
       "30                                    Thermo, Curtain   1.095723\n",
       "23                              Tautliner, Box, Frigo   1.151908\n",
       "2                  Box, Jumbo, Refrigerator, Curtain    1.243875\n",
       "17                                       Refrigerator   1.299209\n",
       "25                                Tautliner, Curtain    1.301871\n",
       "18                              Refrigerator, Curtain   1.323895\n",
       "9                                             Curtain   1.344438\n",
       "31                               Thermo, Refrigerator   1.501351\n",
       "12                                      Flatbed truck   2.002670\n",
       "27                            Tautliner, Refrigerator   2.078005\n",
       "3                                   Box, Refrigerator   2.389486"
      ]
     },
     "execution_count": 43,
     "metadata": {},
     "output_type": "execute_result"
    }
   ],
   "source": [
    "df9 = df.groupby(['BODY_TYPE'], as_index=False).EuroForKM.mean()\n",
    "df9.sort_values('EuroForKM')"
   ]
  },
  {
   "cell_type": "code",
   "execution_count": 44,
   "metadata": {},
   "outputs": [
    {
     "data": {
      "text/html": [
       "<div>\n",
       "<style scoped>\n",
       "    .dataframe tbody tr th:only-of-type {\n",
       "        vertical-align: middle;\n",
       "    }\n",
       "\n",
       "    .dataframe tbody tr th {\n",
       "        vertical-align: top;\n",
       "    }\n",
       "\n",
       "    .dataframe thead th {\n",
       "        text-align: right;\n",
       "    }\n",
       "</style>\n",
       "<table border=\"1\" class=\"dataframe\">\n",
       "  <thead>\n",
       "    <tr style=\"text-align: right;\">\n",
       "      <th></th>\n",
       "      <th>BODY_TYPE</th>\n",
       "      <th>EuroForKM</th>\n",
       "    </tr>\n",
       "  </thead>\n",
       "  <tbody>\n",
       "    <tr>\n",
       "      <th>35</th>\n",
       "      <td>tautliner, curtain, isotherm, refrigerator</td>\n",
       "      <td>0.464253</td>\n",
       "    </tr>\n",
       "    <tr>\n",
       "      <th>19</th>\n",
       "      <td>Refrigerator, Tautliner</td>\n",
       "      <td>0.641989</td>\n",
       "    </tr>\n",
       "    <tr>\n",
       "      <th>32</th>\n",
       "      <td>Thermo, Refrigerator, Curtain</td>\n",
       "      <td>0.756348</td>\n",
       "    </tr>\n",
       "    <tr>\n",
       "      <th>14</th>\n",
       "      <td>Jumbo, Mega, Refrigerator, Curtain</td>\n",
       "      <td>0.766787</td>\n",
       "    </tr>\n",
       "    <tr>\n",
       "      <th>0</th>\n",
       "      <td>Box, Coil trough, Tautliner, Mega, Curtain</td>\n",
       "      <td>0.776186</td>\n",
       "    </tr>\n",
       "    <tr>\n",
       "      <th>34</th>\n",
       "      <td>izotherm, standard, curtain, refrigerator</td>\n",
       "      <td>0.808052</td>\n",
       "    </tr>\n",
       "    <tr>\n",
       "      <th>11</th>\n",
       "      <td>Curtain, Tautliner</td>\n",
       "      <td>0.816815</td>\n",
       "    </tr>\n",
       "    <tr>\n",
       "      <th>16</th>\n",
       "      <td>RIGID TRUCK, ARTICULATED TRUCK</td>\n",
       "      <td>0.855934</td>\n",
       "    </tr>\n",
       "    <tr>\n",
       "      <th>15</th>\n",
       "      <td>Other</td>\n",
       "      <td>0.858837</td>\n",
       "    </tr>\n",
       "    <tr>\n",
       "      <th>8</th>\n",
       "      <td>Coil trough, Tautliner, Mega, Curtain</td>\n",
       "      <td>0.881969</td>\n",
       "    </tr>\n",
       "    <tr>\n",
       "      <th>6</th>\n",
       "      <td>CURTAIN, TAUTLINER</td>\n",
       "      <td>0.882934</td>\n",
       "    </tr>\n",
       "    <tr>\n",
       "      <th>22</th>\n",
       "      <td>Tautliner</td>\n",
       "      <td>0.913223</td>\n",
       "    </tr>\n",
       "    <tr>\n",
       "      <th>7</th>\n",
       "      <td>Coil trough</td>\n",
       "      <td>0.934612</td>\n",
       "    </tr>\n",
       "    <tr>\n",
       "      <th>20</th>\n",
       "      <td>TAUTLINER</td>\n",
       "      <td>0.945914</td>\n",
       "    </tr>\n",
       "    <tr>\n",
       "      <th>29</th>\n",
       "      <td>Tautliner, Refrigerator, Curtain</td>\n",
       "      <td>0.966184</td>\n",
       "    </tr>\n",
       "    <tr>\n",
       "      <th>13</th>\n",
       "      <td>Jumbo, Curtain</td>\n",
       "      <td>0.969490</td>\n",
       "    </tr>\n",
       "    <tr>\n",
       "      <th>21</th>\n",
       "      <td>TIPPER</td>\n",
       "      <td>0.991899</td>\n",
       "    </tr>\n",
       "    <tr>\n",
       "      <th>4</th>\n",
       "      <td>Box, Thermo, Tautliner, Mega, Refrigerator, Cu...</td>\n",
       "      <td>0.994563</td>\n",
       "    </tr>\n",
       "    <tr>\n",
       "      <th>5</th>\n",
       "      <td>CURTAIN</td>\n",
       "      <td>1.011721</td>\n",
       "    </tr>\n",
       "    <tr>\n",
       "      <th>10</th>\n",
       "      <td>Curtain</td>\n",
       "      <td>1.021257</td>\n",
       "    </tr>\n",
       "    <tr>\n",
       "      <th>26</th>\n",
       "      <td>Tautliner, Mega, Curtain</td>\n",
       "      <td>1.041427</td>\n",
       "    </tr>\n",
       "    <tr>\n",
       "      <th>1</th>\n",
       "      <td>Box, Coil trough, Thermo, Tautliner, Mega, Ref...</td>\n",
       "      <td>1.041731</td>\n",
       "    </tr>\n",
       "    <tr>\n",
       "      <th>24</th>\n",
       "      <td>Tautliner, Curtain</td>\n",
       "      <td>1.043271</td>\n",
       "    </tr>\n",
       "    <tr>\n",
       "      <th>33</th>\n",
       "      <td>Thermo, Tautliner, Refrigerator, Curtain</td>\n",
       "      <td>1.078559</td>\n",
       "    </tr>\n",
       "    <tr>\n",
       "      <th>28</th>\n",
       "      <td>Tautliner, Refrigerator, Curtain</td>\n",
       "      <td>1.088750</td>\n",
       "    </tr>\n",
       "    <tr>\n",
       "      <th>30</th>\n",
       "      <td>Thermo, Curtain</td>\n",
       "      <td>1.095723</td>\n",
       "    </tr>\n",
       "    <tr>\n",
       "      <th>23</th>\n",
       "      <td>Tautliner, Box, Frigo</td>\n",
       "      <td>1.151908</td>\n",
       "    </tr>\n",
       "    <tr>\n",
       "      <th>2</th>\n",
       "      <td>Box, Jumbo, Refrigerator, Curtain</td>\n",
       "      <td>1.243875</td>\n",
       "    </tr>\n",
       "    <tr>\n",
       "      <th>17</th>\n",
       "      <td>Refrigerator</td>\n",
       "      <td>1.299209</td>\n",
       "    </tr>\n",
       "    <tr>\n",
       "      <th>25</th>\n",
       "      <td>Tautliner, Curtain</td>\n",
       "      <td>1.301871</td>\n",
       "    </tr>\n",
       "    <tr>\n",
       "      <th>18</th>\n",
       "      <td>Refrigerator, Curtain</td>\n",
       "      <td>1.323895</td>\n",
       "    </tr>\n",
       "    <tr>\n",
       "      <th>9</th>\n",
       "      <td>Curtain</td>\n",
       "      <td>1.344438</td>\n",
       "    </tr>\n",
       "    <tr>\n",
       "      <th>31</th>\n",
       "      <td>Thermo, Refrigerator</td>\n",
       "      <td>1.501351</td>\n",
       "    </tr>\n",
       "    <tr>\n",
       "      <th>12</th>\n",
       "      <td>Flatbed truck</td>\n",
       "      <td>2.002670</td>\n",
       "    </tr>\n",
       "    <tr>\n",
       "      <th>27</th>\n",
       "      <td>Tautliner, Refrigerator</td>\n",
       "      <td>2.078005</td>\n",
       "    </tr>\n",
       "    <tr>\n",
       "      <th>3</th>\n",
       "      <td>Box, Refrigerator</td>\n",
       "      <td>2.389486</td>\n",
       "    </tr>\n",
       "  </tbody>\n",
       "</table>\n",
       "</div>"
      ],
      "text/plain": [
       "                                            BODY_TYPE  EuroForKM\n",
       "35         tautliner, curtain, isotherm, refrigerator   0.464253\n",
       "19                            Refrigerator, Tautliner   0.641989\n",
       "32                      Thermo, Refrigerator, Curtain   0.756348\n",
       "14                 Jumbo, Mega, Refrigerator, Curtain   0.766787\n",
       "0          Box, Coil trough, Tautliner, Mega, Curtain   0.776186\n",
       "34          izotherm, standard, curtain, refrigerator   0.808052\n",
       "11                                 Curtain, Tautliner   0.816815\n",
       "16                     RIGID TRUCK, ARTICULATED TRUCK   0.855934\n",
       "15                                              Other   0.858837\n",
       "8               Coil trough, Tautliner, Mega, Curtain   0.881969\n",
       "6                                  CURTAIN, TAUTLINER   0.882934\n",
       "22                                          Tautliner   0.913223\n",
       "7                                         Coil trough   0.934612\n",
       "20                                          TAUTLINER   0.945914\n",
       "29                  Tautliner, Refrigerator, Curtain    0.966184\n",
       "13                                     Jumbo, Curtain   0.969490\n",
       "21                                             TIPPER   0.991899\n",
       "4   Box, Thermo, Tautliner, Mega, Refrigerator, Cu...   0.994563\n",
       "5                                             CURTAIN   1.011721\n",
       "10                                           Curtain    1.021257\n",
       "26                           Tautliner, Mega, Curtain   1.041427\n",
       "1   Box, Coil trough, Thermo, Tautliner, Mega, Ref...   1.041731\n",
       "24                                 Tautliner, Curtain   1.043271\n",
       "33           Thermo, Tautliner, Refrigerator, Curtain   1.078559\n",
       "28                   Tautliner, Refrigerator, Curtain   1.088750\n",
       "30                                    Thermo, Curtain   1.095723\n",
       "23                              Tautliner, Box, Frigo   1.151908\n",
       "2                  Box, Jumbo, Refrigerator, Curtain    1.243875\n",
       "17                                       Refrigerator   1.299209\n",
       "25                                Tautliner, Curtain    1.301871\n",
       "18                              Refrigerator, Curtain   1.323895\n",
       "9                                             Curtain   1.344438\n",
       "31                               Thermo, Refrigerator   1.501351\n",
       "12                                      Flatbed truck   2.002670\n",
       "27                            Tautliner, Refrigerator   2.078005\n",
       "3                                   Box, Refrigerator   2.389486"
      ]
     },
     "execution_count": 44,
     "metadata": {},
     "output_type": "execute_result"
    }
   ],
   "source": [
    "import numpy as np\n",
    "df.groupby('BODY_TYPE')['EuroForKM'].agg(np.median)\n",
    "df9.sort_values('EuroForKM')"
   ]
  },
  {
   "cell_type": "code",
   "execution_count": 45,
   "metadata": {},
   "outputs": [
    {
     "data": {
      "text/plain": [
       "0.025868540280978077"
      ]
     },
     "execution_count": 45,
     "metadata": {},
     "output_type": "execute_result"
    }
   ],
   "source": [
    "Correlation_EPALE_EuroKm = df['EPALE'].corr(df['EuroForKM'])\n",
    "Correlation_EPALE_EuroKm"
   ]
  },
  {
   "cell_type": "code",
   "execution_count": 46,
   "metadata": {},
   "outputs": [
    {
     "data": {
      "image/png": "[encoded data removed]",
      "text/plain": [
       "<Figure size 432x288 with 1 Axes>"
      ]
     },
     "metadata": {
      "needs_background": "light"
     },
     "output_type": "display_data"
    }
   ],
   "source": [
    "df13 = df['EPALE'].value_counts()\n",
    "ax = df13.plot.bar(x='EPALE', y='val', rot=90)"
   ]
  },
  {
   "cell_type": "code",
   "execution_count": 47,
   "metadata": {},
   "outputs": [
    {
     "data": {
      "text/plain": [
       "0.09720874357616784"
      ]
     },
     "execution_count": 47,
     "metadata": {},
     "output_type": "execute_result"
    }
   ],
   "source": [
    "Correlation_TIMOID_EuroKm = df['TIMO_ID'].corr(df['EuroForKM'])\n",
    "Correlation_TIMOID_EuroKm"
   ]
  },
  {
   "cell_type": "code",
   "execution_count": null,
   "metadata": {},
   "outputs": [],
   "source": []
  }
 ],
 "metadata": {
  "kernelspec": {
   "display_name": "Python 3",
   "language": "python",
   "name": "python3"
  },
  "language_info": {
   "codemirror_mode": {
    "name": "ipython",
    "version": 3
   },
   "file_extension": ".py",
   "mimetype": "text/x-python",
   "name": "python",
   "nbconvert_exporter": "python",
   "pygments_lexer": "ipython3",
   "version": "3.8.8"
  }
 },
 "nbformat": 4,
 "nbformat_minor": 4
}
